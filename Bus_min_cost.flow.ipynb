{
 "metadata": {
  "language_info": {
   "codemirror_mode": {
    "name": "ipython",
    "version": 3
   },
   "file_extension": ".py",
   "mimetype": "text/x-python",
   "name": "python",
   "nbconvert_exporter": "python",
   "pygments_lexer": "ipython3",
   "version": "3.9.0"
  },
  "orig_nbformat": 2,
  "kernelspec": {
   "name": "python390jvsc74a57bd0212ba2339021f4235406b6df408ff0728ee814e8f32ea5b108c493c08d38dd68",
   "display_name": "Python 3.9.0 64-bit"
  }
 },
 "nbformat": 4,
 "nbformat_minor": 2,
 "cells": [
  {
   "source": [
    "# Soluzione problema con flusso di costo minimo, con k = 33 si riescono a raccogliere tutti i passeggeri"
   ],
   "cell_type": "markdown",
   "metadata": {}
  },
  {
   "cell_type": "code",
   "execution_count": 44,
   "metadata": {},
   "outputs": [],
   "source": [
    "import math\n",
    "import mip\n",
    "import pandas as pd\n",
    "import datetime\n",
    "from pandas import ExcelFile\n",
    "\n",
    "#acquisizione dei dati dal foglio elettronico\n",
    "tratte = pd.read_excel('file_di_dati.xls',sheet_name='porzioni di viaggio')\n",
    "tempi_a_vuoto = pd.read_excel('file_di_dati.xls',sheet_name='tempi di percorrenza a vuoto')"
   ]
  },
  {
   "source": [
    "# Definiamo una funzione che usa il mapping dei luoghi con un dizionario che restituisce i tempi a vuoto tra tratte"
   ],
   "cell_type": "markdown",
   "metadata": {}
  },
  {
   "cell_type": "code",
   "execution_count": 45,
   "metadata": {},
   "outputs": [],
   "source": [
    "#funzione per ricavare i tempi di percorrenza a vuoto tra due tratte\n",
    "nomi = {tempi_a_vuoto.iloc[0][i]:i for i in range(1,17)}\n",
    "\n",
    "def t_trasf(i,j):\n",
    "    a = nomi[tratte.iloc[j][2]]\n",
    "    b = nomi[tratte.iloc[i][3]]\n",
    "    #matrice riempita per metà...\n",
    "    if(math.isnan(tempi_a_vuoto.iloc[a][b])):\n",
    "        return datetime.timedelta(minutes=tempi_a_vuoto.iloc[b][a])\n",
    "    return datetime.timedelta(minutes=tempi_a_vuoto.iloc[a][b])\n"
   ]
  },
  {
   "source": [
    "# Inizializzazione delle variabili"
   ],
   "cell_type": "markdown",
   "metadata": {}
  },
  {
   "cell_type": "code",
   "execution_count": 46,
   "metadata": {},
   "outputs": [],
   "source": [
    "k = 10\n",
    "NUMERO_TRATTE = 156 #numero tratte\n",
    "NUMERO_NODI = NUMERO_TRATTE * 2 + 2 #numero nodi del grafo\n",
    "A = [[0]*NUMERO_NODI for i in range(NUMERO_NODI)] # archi comprensivi di archi tra i e i' e i' e j\n",
    "c = [[0]*NUMERO_NODI for i in range(NUMERO_NODI)] # costi relativi agli archi i,j\n",
    "u = [[0]*NUMERO_NODI for i in range(NUMERO_NODI)] # flussi sugli archi ---> vincoli\n",
    "b = [0 for i in range(NUMERO_NODI)] # nodi\n",
    "b[NUMERO_NODI-2] = (-1)*k #sorgente\n",
    "b[NUMERO_NODI-1] = k      #pozzo\n"
   ]
  },
  {
   "source": [
    "# Assegnamo gli archi in base ai vincoli di compatibilità dei tempi"
   ],
   "cell_type": "markdown",
   "metadata": {}
  },
  {
   "cell_type": "code",
   "execution_count": 47,
   "metadata": {},
   "outputs": [],
   "source": [
    "for i in range(1, NUMERO_TRATTE+1):\n",
    "    for j in range(i+1, NUMERO_TRATTE+1):\n",
    "        t = t_trasf(i,j)\n",
    "        if((tratte.iloc[i,5]+t)<=tratte.iloc[j,4]):\n",
    "            A[i+NUMERO_TRATTE-1][j-1]=1\n",
    "            u[i+NUMERO_TRATTE-1][j-1]=1 \n"
   ]
  },
  {
   "cell_type": "code",
   "execution_count": 48,
   "metadata": {},
   "outputs": [],
   "source": [
    "#archi interni alle tratte \n",
    "for i in range(NUMERO_TRATTE):\n",
    "    for j in range(NUMERO_TRATTE):\n",
    "        if(i==j):\n",
    "            A[i][j+NUMERO_TRATTE]=1\n",
    "            u[i][j+NUMERO_TRATTE]=1\n",
    "            "
   ]
  },
  {
   "cell_type": "code",
   "execution_count": 49,
   "metadata": {},
   "outputs": [],
   "source": [
    "#archi dalla radice al nodo partenza\n",
    "for j in range(NUMERO_TRATTE):\n",
    "    A[NUMERO_NODI-2][j]=1\n",
    "    u[NUMERO_NODI-2][j]=1"
   ]
  },
  {
   "cell_type": "code",
   "execution_count": 50,
   "metadata": {},
   "outputs": [],
   "source": [
    "#archi dall'arrivo al pozzo\n",
    "for i in range(NUMERO_TRATTE):\n",
    "    A[i+NUMERO_TRATTE][NUMERO_NODI-1]=1\n",
    "    u[i+NUMERO_TRATTE][NUMERO_NODI-1]=1"
   ]
  },
  {
   "cell_type": "code",
   "execution_count": 51,
   "metadata": {},
   "outputs": [],
   "source": [
    "#arco di ottimizzazione dal pozzo alla radice\n",
    "A[NUMERO_NODI-2][NUMERO_NODI-1]=1\n",
    "u[NUMERO_NODI-2][NUMERO_NODI-1]=k     \n"
   ]
  },
  {
   "cell_type": "code",
   "execution_count": 52,
   "metadata": {},
   "outputs": [],
   "source": [
    "for i in range(NUMERO_TRATTE):\n",
    "    for j in range(NUMERO_TRATTE):\n",
    "        if(i==j):\n",
    "            c[i][j+NUMERO_TRATTE]=(-1)*(tratte.iloc[i+1][1])\n",
    "# trasponiamo i costi in una matrice\n"
   ]
  },
  {
   "source": [
    "# Definizione modello e validazione"
   ],
   "cell_type": "markdown",
   "metadata": {}
  },
  {
   "cell_type": "code",
   "execution_count": 53,
   "metadata": {},
   "outputs": [],
   "source": [
    "m = mip.Model()\n",
    "x = [m.add_var(var_type=mip.INTEGER) for g in range(NUMERO_NODI*NUMERO_NODI)]\n",
    "m.objective = mip.minimize(mip.xsum(c[i][j]*x[(i*NUMERO_NODI)+j] for j in range(NUMERO_NODI) for i in range(NUMERO_NODI) if A[i][j]>0))"
   ]
  },
  {
   "source": [
    "# Vincoli di bilancio per ogni nodo"
   ],
   "cell_type": "markdown",
   "metadata": {}
  },
  {
   "cell_type": "code",
   "execution_count": 54,
   "metadata": {},
   "outputs": [],
   "source": [
    "for i in range(NUMERO_NODI):\n",
    "    \n",
    "    BS = []\n",
    "    for k in range(NUMERO_NODI):\n",
    "        if(A[k][i]>0):\n",
    "            BS.append(k)\n",
    "    FS = []\n",
    "    for k in range(NUMERO_NODI):\n",
    "        if(A[i][k]>0):\n",
    "            FS.append(k)\n",
    "            \n",
    "    m.add_constr(  mip.xsum(x[(j*NUMERO_NODI)+i] for j in BS)  -  mip.xsum(x[(i*NUMERO_NODI)+j] for j in FS)  ==  b[i])\n",
    "\n",
    "\n",
    "for i in range(NUMERO_NODI):\n",
    "    for j in range(NUMERO_NODI): \n",
    "        if(A[i][j]>0):\n",
    "            m.add_constr(x[(i*NUMERO_NODI)+j]>= 0)\n",
    "\n",
    "\n",
    "for i in range(NUMERO_NODI):\n",
    "    for j in range(NUMERO_NODI): \n",
    "        if(A[i][j]>0):\n",
    "            m.add_constr(x[(i*NUMERO_NODI)+j]<= u[i][j])\n"
   ]
  },
  {
   "cell_type": "code",
   "execution_count": 55,
   "metadata": {},
   "outputs": [
    {
     "output_type": "stream",
     "name": "stdout",
     "text": [
      "soluzione problema per 313 è 4492.0 passeggeri raccolti\n"
     ]
    }
   ],
   "source": [
    "\n",
    "m.optimize()\n",
    "print(f\"soluzione problema è {-1*(m.objective_value)} passeggeri raccolti\")\n",
    "\n"
   ]
  },
  {
   "cell_type": "code",
   "execution_count": null,
   "metadata": {},
   "outputs": [],
   "source": []
  }
 ]
}