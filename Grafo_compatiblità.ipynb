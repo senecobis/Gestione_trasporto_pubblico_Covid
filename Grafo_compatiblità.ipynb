{
 "metadata": {
  "language_info": {
   "codemirror_mode": {
    "name": "ipython",
    "version": 3
   },
   "file_extension": ".py",
   "mimetype": "text/x-python",
   "name": "python",
   "nbconvert_exporter": "python",
   "pygments_lexer": "ipython3",
   "version": "3.9.5"
  },
  "orig_nbformat": 2,
  "kernelspec": {
   "name": "python395jvsc74a57bd089c95244fa7d685ba9529f989ff221039b25725b638885f483fe617a76ee8f86",
   "display_name": "Python 3.9.5 64-bit"
  },
  "metadata": {
   "interpreter": {
    "hash": "89c95244fa7d685ba9529f989ff221039b25725b638885f483fe617a76ee8f86"
   }
  }
 },
 "nbformat": 4,
 "nbformat_minor": 2,
 "cells": [
  {
   "cell_type": "code",
   "execution_count": 1,
   "metadata": {},
   "outputs": [
    {
     "output_type": "stream",
     "name": "stdout",
     "text": [
      "-----------------------------------------------------------\n",
      "[[20], [20], [47], [57], [28], [20], [30], [75], [40], [34], [141], [34], [15], [37], [12], [30], [17], [38], [11], [18], [14], [23], [25], [15], [111], [16], [29], [35], [22], [53], [30], [12], [54], [12], [36], [29], [27], [14], [20], [15], [24], [28], [32], [22], [54], [40], [13], [38], [13], [29], [57], [31], [68], [27], [19], [17], [47], [31], [44], [68], [52], [47], [87], [90], [50], [39], [30], [30], [13], [10], [61], [36], [40], [32], [45], [25], [10], [28], [93], [31], [21], [20], [13], [63], [15], [59], [60], [42], [45], [25], [23], [20], [10], [13], [20], [12], [19], [16], [74], [24], [66], [106], [19], [60], [35], [18], [71], [17], [28], [45], [53], [30], [20], [14], [62], [22], [28], [35], [10], [25], [42], [35], [13], [10], [20], [30], [30], [86], [35], [19], [41], [20], [40], [24], [74], [40], [17], [14], [21], [17], [11], [40], [17], [47], [10], [21], [34], [37], [21], [27], [38], [26], [17], [34], [27], [19]]\n"
     ]
    }
   ],
   "source": [
    "import pandas as pd\n",
    "import xlrd\n",
    "import mip\n",
    "import networkx as nx\n",
    "\n",
    "# definizioni costanti fittizzie\n",
    "\n",
    "COUNTED_PASSENGERS = 0\n",
    "EXTRA_PASSENGERS = 1\n",
    "INITIAL_STOP = 2\n",
    "FINAL_STOP = 3\n",
    "INITIAL_TIME = 4\n",
    "FINAL_TIME = 5\n",
    "K_AUTOBUS = 33\n",
    "\n",
    "# lettura files\n",
    "\n",
    "Tratte = pd.read_excel('file_di_dati.xlsx', sheet_name=\"porzioni di viaggio\")\n",
    "t_v = pd.read_excel('file_di_dati.xlsx', sheet_name=\"tempi di percorrenza a vuoto\")\n",
    "\n",
    "#print(Tratte)\n",
    "'print(tempi_vuoto)'\n",
    "\n",
    "print('-----------------------------------------------------------')\n",
    "\n",
    "'''\n",
    "Tratte = Tratte.to_numpy()\n",
    "tempi_vuoto = tempi_vuoto.to_numpy()\n",
    "\n",
    "print(Tratte)\n",
    "#print(tempi_vuoto)\n",
    "'''\n",
    "\n",
    "# metto tutte le colonne in un array\n",
    "\n",
    "counted_passengers = pd.read_excel(\"file_di_dati.xlsx\",'porzioni di viaggio', usecols='A', skiprows=[0]) \n",
    "counted_passengers = counted_passengers.values.tolist()\n",
    "\n",
    "extra_passengers = pd.read_excel(\"file_di_dati.xlsx\",'porzioni di viaggio', usecols='B', skiprows=[0])\n",
    "extra_passengers = extra_passengers.values.tolist() \n",
    "n_extra_passengers = len(extra_passengers)\n",
    "n_tratte = n_extra_passengers\n",
    "\n",
    "initial_stop = pd.read_excel(\"file_di_dati.xlsx\",'porzioni di viaggio', usecols='C', skiprows=[0]) \n",
    "initial_stop = initial_stop.values.tolist()\n",
    "\n",
    "final_stop = pd.read_excel(\"file_di_dati.xlsx\",'porzioni di viaggio', usecols='D', skiprows=[0]) \n",
    "final_stop = final_stop.values.tolist()\n",
    "\n",
    "initial_time = pd.read_excel(\"file_di_dati.xlsx\",'porzioni di viaggio', usecols='E', skiprows=[0]) \n",
    "initial_time = initial_time.values.tolist()\n",
    "\n",
    "final_time = pd.read_excel(\"file_di_dati.xlsx\",'porzioni di viaggio', usecols='F', skiprows=[0]) \n",
    "final_time = final_time.values.tolist()\n",
    "\n"
   ]
  },
  {
   "cell_type": "code",
   "execution_count": 4,
   "metadata": {},
   "outputs": [
    {
     "output_type": "stream",
     "name": "stdout",
     "text": [
      "nan\npiazzale medaglie d’oro\npiazzale dante\n['stazione fs', 'kennedy', 'barriera', 'canapa', 'ospedale', 'p. medaglie d’oro', 'p. dante', 'pontegradella itis', 'barlaam', 'cavour giardini', 'santa maria maddalena', 'autostazione', 'corti di medoro', 'giovecca montebello', 'barco', 'malborghetto']\n16\n{'stazione fs': 0, 'kennedy': 1, 'barriera': 2, 'canapa': 3, 'ospedale': 4, 'p. medaglie d’oro': 5, 'p. dante': 6, 'pontegradella itis': 7, 'barlaam': 8, 'cavour giardini': 9, 'santa maria maddalena': 10, 'autostazione': 11, 'corti di medoro': 12, 'giovecca montebello': 13, 'barco': 14, 'malborghetto': 15}\n"
     ]
    }
   ],
   "source": [
    "# qua bisogna sistemare i nomi di tempi a vuoto\n",
    "#questo for rende tutti i nomi omogenei a quelli delle righa zeresima cambiando la col zeresima\n",
    "\n",
    "tempi_vuoto = (t_v.values.tolist())\n",
    "luoghi = tempi_vuoto[0][:]\n",
    "luoghi.pop(0)\n",
    "n_luoghi = len(luoghi)\n",
    "\n",
    "for i in range(n_luoghi):\n",
    "    if tempi_vuoto[i][0]!=tempi_vuoto[0][i]:\n",
    "            print(tempi_vuoto[i][0])\n",
    "            tempi_vuoto[i][0]=tempi_vuoto[0][i]\n",
    "\n",
    "#ribalto la matrice per potere scrivere tratte_vuoto[i][j]\n",
    "for i in range(n_luoghi+1):\n",
    "    for j in range(n_luoghi+1):\n",
    "        if i>j:\n",
    "            tempi_vuoto[j][i]=tempi_vuoto[i][j]\n",
    "        if i == j:\n",
    "            tempi_vuoto[i][j]=0\n",
    "\n",
    "\n",
    "#print(luoghi)\n",
    "n_luoghi = len(luoghi)\n",
    "#print(n_luoghi)\n",
    "print(tempi_vuoto)\n",
    "\n",
    "luoghi_to_indici = {luoghi[i]:i+1 for i in range(n_luoghi)}\n",
    "\n",
    "\n",
    "# usiamo un dizionario in cui ogni nome corrisponde a un indice\n",
    "\n",
    "#print(luoghi_to_indici)"
   ]
  },
  {
   "cell_type": "code",
   "execution_count": null,
   "metadata": {},
   "outputs": [],
   "source": [
    "\n",
    "# i nodi sono per ogni tratta 2\n",
    "# in particolare uno è la partenza e uno l' arrivo\n",
    "# definisco tutti i nodi, li collgo in base alla tratta \n",
    "# definisco anche il nodo pozzo e il nodo sorgente\n",
    "\n",
    "s = 0\n",
    "t = n_tratte+1\n",
    "\n",
    "nodi_partenze = []\n",
    "\n",
    "for i in range(1,n_tratte+1):\n",
    "    nodi_partenze.append(i)\n",
    "\n",
    "nodi_arrivi = []\n",
    "\n",
    "for i in range(1,n_tratte+1):\n",
    "    nodi_arrivi.append(i)\n",
    "\n",
    "\n",
    "print(nodi_arrivi)"
   ]
  },
  {
   "cell_type": "code",
   "execution_count": null,
   "metadata": {},
   "outputs": [],
   "source": [
    "A = []\n",
    "# arco s\n",
    "for j in range (n_tratte):\n",
    "    A.append(s,j)\n",
    "\n",
    "# archi compatibilità\n",
    "for (i,j) in range (n_tratte,n_tratte):\n",
    "    if i!= j and initial_time[j] <= final_time[i] + tempi_vuoto[i][j]:\n",
    "        A.append(i,j)\n",
    "\n",
    "\n",
    "# archi bilancio\n",
    "\n",
    "\n",
    "#arco t"
   ]
  }
 ]
}