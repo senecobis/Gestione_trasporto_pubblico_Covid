{
 "cells": [
  {
   "cell_type": "code",
   "execution_count": 28,
   "id": "20b4f6f0",
   "metadata": {
    "tags": []
   },
   "outputs": [
    {
     "output_type": "stream",
     "name": "stdout",
     "text": [
      "-----------------------------------------------------------\n[[nan, 'stazione fs', 'kennedy', 'barriera', 'canapa', 'ospedale', 'p. medaglie d’oro', 'p. dante', 'pontegradella itis', 'barlaam', 'cavour giardini', 'santa maria maddalena', 'autostazione', 'corti di medoro', 'giovecca montebello', 'barco', 'malborghetto'], ['kennedy', 10, nan, nan, nan, nan, nan, nan, nan, nan, nan, nan, nan, nan, nan, nan, nan], ['barriera', 3, 10, nan, nan, nan, nan, nan, nan, nan, nan, nan, nan, nan, nan, nan, nan], ['canapa', 10, 15, 10, nan, nan, nan, nan, nan, nan, nan, nan, nan, nan, nan, nan, nan], ['ospedale', 20, 15, 20, 25, nan, nan, nan, nan, nan, nan, nan, nan, nan, nan, nan, nan], ['piazzale medaglie d’oro', 10, 5, 8, 10, 15, nan, nan, nan, nan, nan, nan, nan, nan, nan, nan, nan], ['piazzale dante', 10, 15, 10, 5, 25, 10, nan, nan, nan, nan, nan, nan, nan, nan, nan, nan], ['pontegradella itis', 12, 7, 10, 10, 20, 3, 8, nan, nan, nan, nan, nan, nan, nan, nan, nan], ['barlaam', 10, 5, 10, 12, 25, 15, 10, 17, nan, nan, nan, nan, nan, nan, nan, nan], ['cavour giardini', 5, 5, 3, 12, 20, 5, 10, 7, 12, nan, nan, nan, nan, nan, nan, nan], ['santa maria maddalena', 20, 25, 20, 18, 30, 25, 20, 25, 25, 25, nan, nan, nan, nan, nan, nan], ['autostazione', 5, 10, 5, 10, 20, 10, 12, 12, 5, 7, 20, nan, nan, nan, nan, nan], ['corti di medoro', 15, 5, 15, 15, 20, 12, 15, 15, 3, 7, 25, 12, nan, nan, nan, nan], ['giovecca montebello', 8, 7, 5, 20, 15, 3, 10, 5, 10, 5, 25, 10, 12, nan, nan, nan], ['barco', 15, 20, 15, 3, 25, 12, 8, 12, 20, 20, 7, 10, 22, 15, nan, nan], ['malborghetto', 25, 25, 25, 15, 30, 20, 13, 20, 25, 20, 20, 30, 25, 22, 15, nan]]\n"
     ]
    }
   ],
   "source": [
    "import pandas as pd\n",
    "import xlrd\n",
    "\n",
    "Tratte = pd.read_excel('file_di_dati.xlsx', sheet_name=\"porzioni di viaggio\")\n",
    "t_v = pd.read_excel('file_di_dati.xlsx', sheet_name=\"tempi di percorrenza a vuoto\")\n",
    "\n",
    "#print(Tratte)\n",
    "'print(tempi_vuoto)'\n",
    "\n",
    "print('-----------------------------------------------------------')\n",
    "\n",
    "'''\n",
    "Tratte = Tratte.to_numpy()\n",
    "tempi_vuoto = tempi_vuoto.to_numpy()\n",
    "\n",
    "print(Tratte)\n",
    "#print(tempi_vuoto)\n",
    "'''\n",
    "\n",
    "# metto tutte le colonne in un array\n",
    "\n",
    "counted_passengers = pd.read_excel(\"file_di_dati.xlsx\",'porzioni di viaggio', usecols='A', skiprows=[0]) \n",
    "counted_passengers = counted_passengers.values.tolist()\n",
    "extra_passengers = pd.read_excel(\"file_di_dati.xlsx\",'porzioni di viaggio', usecols='B', skiprows=[0])\n",
    "extra_passengers = extra_passengers.values.tolist() \n",
    "initial_stop = pd.read_excel(\"file_di_dati.xlsx\",'porzioni di viaggio', usecols='C', skiprows=[0]) \n",
    "initial_stop = initial_stop.values.tolist()\n",
    "final_stop = pd.read_excel(\"file_di_dati.xlsx\",'porzioni di viaggio', usecols='D', skiprows=[0]) \n",
    "final_stop = final_stop.values.tolist()\n",
    "initial_time = pd.read_excel(\"file_di_dati.xlsx\",'porzioni di viaggio', usecols='E', skiprows=[0]) \n",
    "initial_time = initial_time.values.tolist()\n",
    "final_time = pd.read_excel(\"file_di_dati.xlsx\",'porzioni di viaggio', usecols='F', skiprows=[0]) \n",
    "final_time = final_time.values.tolist()\n",
    "\n",
    "\n",
    "\n",
    "# qua bisogna sistemare i nomi di tempi a vuoto e salvarli in una matrice\n",
    "\n",
    "tempi_vuoto = (t_v.values.tolist())\n",
    "print(tempi_vuoto)  \n",
    "\n",
    "\n",
    "\n",
    "\n",
    "\n",
    "\n",
    "\n",
    "\n",
    "\n",
    "\n",
    "\n",
    "\n",
    "\n"
   ]
  },
  {
   "cell_type": "code",
   "execution_count": null,
   "metadata": {},
   "outputs": [],
   "source": []
  }
 ],
 "metadata": {
  "kernelspec": {
   "name": "python395jvsc74a57bd089c95244fa7d685ba9529f989ff221039b25725b638885f483fe617a76ee8f86",
   "display_name": "Python 3.9.5 64-bit"
  },
  "language_info": {
   "codemirror_mode": {
    "name": "ipython",
    "version": 3
   },
   "file_extension": ".py",
   "mimetype": "text/x-python",
   "name": "python",
   "nbconvert_exporter": "python",
   "pygments_lexer": "ipython3",
   "version": "3.9.5"
  },
  "metadata": {
   "interpreter": {
    "hash": "89c95244fa7d685ba9529f989ff221039b25725b638885f483fe617a76ee8f86"
   }
  }
 },
 "nbformat": 4,
 "nbformat_minor": 5
}