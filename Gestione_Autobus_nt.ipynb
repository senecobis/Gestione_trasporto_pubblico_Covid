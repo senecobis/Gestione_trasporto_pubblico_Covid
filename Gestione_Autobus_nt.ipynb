{
 "cells": [
  {
   "cell_type": "code",
   "execution_count": 4,
   "id": "9312c20b",
   "metadata": {},
   "outputs": [],
   "source": [
    "import pandas as pd\n",
    "import numpy as np\n",
    "import mip\n",
    "from datetime import datetime \n",
    "import xlrd\n",
    "# <<<<<<<<<<<<<  header  >>>>>>>>>>>>>>>\n",
    "\n",
    "# definizioni costanti fittizzie\n",
    "\n",
    "COUNTED_PASSENGERS = 0\n",
    "EXTRA_PASSENGERS = 1\n",
    "INITIAL_STOP = 2\n",
    "FINAL_STOP = 3\n",
    "INITIAL_TIME = 4\n",
    "FINAL_TIME = 5\n",
    "\n",
    "K_AUTOBUS = 10\n",
    "\n",
    "# lettura files\n",
    "\n",
    "Tratte = pd.read_excel('file_di_dati.xls', sheet_name=\"porzioni di viaggio\")\n",
    "tempi_vuoto = pd.read_excel('file_di_dati.xls', sheet_name=\"tempi di percorrenza a vuoto\")\n",
    "\n",
    "# i tempi a vuoto sono una matrice triangolare inferiore in cui gli elementi [0][j] sono i nomi delle partenze e\n",
    "# gli elementi [i][0] le destinazioni. Quindi gli elementi [i][j] rappresentano il tempo per andare a vuoto dalla origine\n",
    "# j alla destinazione i\n",
    "\n",
    "# conversione files\n",
    "\n",
    "Tratte = Tratte.to_numpy()\n",
    "tempi_vuoto = tempi_vuoto.to_numpy()\n"
   ]
  },
  {
   "cell_type": "code",
   "execution_count": 5,
   "metadata": {},
   "outputs": [],
   "source": [
    "# testings\n",
    "\n",
    "timedelay = Tratte[1][5] - Tratte[1][4]\n",
    "\n",
    "n_di_tratte = Tratte.shape\n"
   ]
  },
  {
   "cell_type": "code",
   "execution_count": 6,
   "metadata": {},
   "outputs": [
    {
     "output_type": "error",
     "ename": "TypeError",
     "evalue": "descriptor 'timestamp' for 'datetime.datetime' objects doesn't apply to a 'str' object",
     "traceback": [
      "\u001b[1;31m---------------------------------------------------------------------------\u001b[0m",
      "\u001b[1;31mTypeError\u001b[0m                                 Traceback (most recent call last)",
      "\u001b[1;32m<ipython-input-6-261c56f85a77>\u001b[0m in \u001b[0;36m<module>\u001b[1;34m\u001b[0m\n\u001b[0;32m      1\u001b[0m \u001b[1;31m#converte i tempi di partenza in millisec from 1970\u001b[0m\u001b[1;33m\u001b[0m\u001b[1;33m\u001b[0m\u001b[1;33m\u001b[0m\u001b[0m\n\u001b[0;32m      2\u001b[0m \u001b[1;32mfor\u001b[0m \u001b[0mi\u001b[0m \u001b[1;32min\u001b[0m \u001b[0mrange\u001b[0m\u001b[1;33m(\u001b[0m\u001b[1;36m0\u001b[0m\u001b[1;33m,\u001b[0m\u001b[0mn_di_tratte\u001b[0m\u001b[1;33m[\u001b[0m\u001b[1;36m0\u001b[0m\u001b[1;33m]\u001b[0m\u001b[1;33m)\u001b[0m\u001b[1;33m:\u001b[0m\u001b[1;33m\u001b[0m\u001b[1;33m\u001b[0m\u001b[0m\n\u001b[1;32m----> 3\u001b[1;33m         \u001b[0mTratte\u001b[0m\u001b[1;33m[\u001b[0m\u001b[0mi\u001b[0m\u001b[1;33m]\u001b[0m\u001b[1;33m[\u001b[0m\u001b[0mINITIAL_TIME\u001b[0m\u001b[1;33m]\u001b[0m \u001b[1;33m=\u001b[0m \u001b[0mdatetime\u001b[0m\u001b[1;33m.\u001b[0m\u001b[0mtimestamp\u001b[0m\u001b[1;33m(\u001b[0m\u001b[0mTratte\u001b[0m\u001b[1;33m[\u001b[0m\u001b[0mi\u001b[0m\u001b[1;33m]\u001b[0m\u001b[1;33m[\u001b[0m\u001b[0mINITIAL_TIME\u001b[0m\u001b[1;33m]\u001b[0m\u001b[1;33m)\u001b[0m\u001b[1;33m\u001b[0m\u001b[1;33m\u001b[0m\u001b[0m\n\u001b[0m\u001b[0;32m      4\u001b[0m \u001b[1;33m\u001b[0m\u001b[0m\n\u001b[0;32m      5\u001b[0m \u001b[1;31m#converte i tempi di arrivo in millisec from 1970\u001b[0m\u001b[1;33m\u001b[0m\u001b[1;33m\u001b[0m\u001b[1;33m\u001b[0m\u001b[0m\n",
      "\u001b[1;31mTypeError\u001b[0m: descriptor 'timestamp' for 'datetime.datetime' objects doesn't apply to a 'str' object"
     ]
    }
   ],
   "source": [
    "#converte i tempi di partenza in millisec from 1970\n",
    "for i in range(0,n_di_tratte[0]):\n",
    "        Tratte[i][INITIAL_TIME] = datetime.timestamp(Tratte[i][INITIAL_TIME])\n",
    "\n",
    "#converte i tempi di arrivo in millisec from 1970\n",
    "for i in range(0,n_di_tratte[0]):\n",
    "        Tratte[i][FINAL_TIME] = datetime.timestamp(Tratte[i][FINAL_TIME])\n",
    "        print(Tratte[i][FINAL_TIME])\n",
    "\n",
    "\n",
    "print(Tratte[1][4])\n",
    "print(timedelay)\n",
    "print(n_di_tratte[0])\n",
    "print(f\"Da {tempi_vuoto[2][0]} a {tempi_vuoto[0][4]} il tempo di percorrenza è {tempi_vuoto[4][2]} minuti \")\n",
    "print(Tratte[48][INITIAL_TIME],Tratte[48][FINAL_TIME])\n"
   ]
  },
  {
   "cell_type": "code",
   "execution_count": 7,
   "metadata": {},
   "outputs": [
    {
     "output_type": "error",
     "ename": "SyntaxError",
     "evalue": "invalid syntax (<ipython-input-7-a547b9a847e3>, line 4)",
     "traceback": [
      "\u001b[1;36m  File \u001b[1;32m\"<ipython-input-7-a547b9a847e3>\"\u001b[1;36m, line \u001b[1;32m4\u001b[0m\n\u001b[1;33m    luoghi = [for k in range(0,n_di_luoghi) ]\u001b[0m\n\u001b[1;37m              ^\u001b[0m\n\u001b[1;31mSyntaxError\u001b[0m\u001b[1;31m:\u001b[0m invalid syntax\n"
     ]
    }
   ],
   "source": [
    "\n",
    "# creazione indice dei luoghi visitabili\n",
    "\n",
    "n_di_luoghi = tempi_vuoto.shape\n",
    "luoghi = [for k in range(0,n_di_luoghi) ]"
   ]
  },
  {
   "cell_type": "code",
   "execution_count": 10,
   "metadata": {},
   "outputs": [
    {
     "output_type": "error",
     "ename": "SyntaxError",
     "evalue": "invalid syntax (<ipython-input-10-6662bc1fde5b>, line 18)",
     "traceback": [
      "\u001b[1;36m  File \u001b[1;32m\"<ipython-input-10-6662bc1fde5b>\"\u001b[1;36m, line \u001b[1;32m18\u001b[0m\n\u001b[1;33m    modello.add_constr(x[i]*Tratte[i][INITIAL_TIME] >= x[i]*(x[i-1][FINAL_TIME]+ tempi_vuoto[])) #prende i primi 157 slot di i\u001b[0m\n\u001b[1;37m                                                                                             ^\u001b[0m\n\u001b[1;31mSyntaxError\u001b[0m\u001b[1;31m:\u001b[0m invalid syntax\n"
     ]
    }
   ],
   "source": [
    "# <<<<<<<<<<<<< Modello mip >>>>>>>>>>>>>\n",
    "\n",
    "modello = mip.Model()\n",
    "\n",
    "x = np.array([modello.add_var(var_type=mip.BINARY) for i in range(0,n_di_tratte[0]*K_AUTOBUS)])\n",
    "z = np.array([modello.add_var(var_type=mip.INTEGER) for i in range(0,K_AUTOBUS)])\n",
    "\n",
    "dimensionex = x.shape\n",
    "dimensionez = z.shape\n",
    "print(f\"la dimensione della x è {dimensionex} e della z {dimensionez}\")\n",
    "\n",
    "#scansiona tutte le tratte disponibili\n",
    "\n",
    "\n",
    "j=0\n",
    "for i in range(0,157*K_AUTOBUS):\n",
    "\n",
    "        modello.add_constr(x[i]*Tratte[i][INITIAL_TIME] >= x[i]*(x[i-1][FINAL_TIME]+ tempi_vuoto[])) #prende i primi 157 slot di i\n",
    "        if i%157 == 0:\n",
    "            j = j+1\n",
    "\n",
    "        \n",
    "#for i in range(0,157*K_AUTOBUS):\n",
    "#    print(x[i])\n",
    "\n",
    "#m.add_constr(  x1 + 2*x2 <= 10)\n",
    "#m.add_constr(2*x1 + 2*x2 <= 18)\n",
    "#m.add_constr(  x1 + 3*x2 <= 12)\n",
    "#m.add_constr(2*x1 + 3*x2 <= 21)\n",
    "#m.add_constr(  x1        <=  9)\n",
    "#m.add_constr(  x1        <= 10)"
   ]
  },
  {
   "cell_type": "code",
   "execution_count": null,
   "metadata": {},
   "outputs": [],
   "source": []
  }
 ],
 "metadata": {
  "kernelspec": {
   "name": "python395jvsc74a57bd089c95244fa7d685ba9529f989ff221039b25725b638885f483fe617a76ee8f86",
   "display_name": "Python 3.9.5 64-bit"
  },
  "language_info": {
   "codemirror_mode": {
    "name": "ipython",
    "version": 3
   },
   "file_extension": ".py",
   "mimetype": "text/x-python",
   "name": "python",
   "nbconvert_exporter": "python",
   "pygments_lexer": "ipython3",
   "version": "3.9.5"
  },
  "metadata": {
   "interpreter": {
    "hash": "89c95244fa7d685ba9529f989ff221039b25725b638885f483fe617a76ee8f86"
   }
  }
 },
 "nbformat": 4,
 "nbformat_minor": 5
}