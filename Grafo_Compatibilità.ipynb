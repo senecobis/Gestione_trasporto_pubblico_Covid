{
 "cells": [
  {
   "cell_type": "code",
   "execution_count": 1,
   "id": "representative-michigan",
   "metadata": {},
   "outputs": [],
   "source": [
    "import math\n",
    "import mip\n",
    "import pandas as pd\n",
    "import datetime\n",
    "from pandas import ExcelFile"
   ]
  },
  {
   "cell_type": "code",
   "execution_count": 2,
   "id": "promotional-physiology",
   "metadata": {},
   "outputs": [],
   "source": [
    "#acquisizione dei dati dal foglio elettronico\n",
    "p_v = pd.read_excel('file di dati.xls',sheet_name='porzioni di viaggio')\n",
    "t_p = pd.read_excel('file di dati.xls',sheet_name='tempi di percorrenza a vuoto')"
   ]
  },
  {
   "cell_type": "code",
   "execution_count": 3,
   "id": "scheduled-prediction",
   "metadata": {},
   "outputs": [],
   "source": [
    "#funzione per ricavare i tempi di percorrenza a vuoto tra due tratte\n",
    "nomi = {t_p.iloc[0][i]:i for i in range(1,17)}\n",
    "\n",
    "def t_trasf(i,j):\n",
    "    a = nomi[p_v.iloc[j][2]]\n",
    "    b = nomi[p_v.iloc[i][3]]\n",
    "    #matrice riempita per metà...\n",
    "    if(math.isnan(t_p.iloc[a][b])):\n",
    "        return datetime.timedelta(minutes=t_p.iloc[b][a])\n",
    "    return datetime.timedelta(minutes=t_p.iloc[a][b])"
   ]
  },
  {
   "cell_type": "code",
   "execution_count": 4,
   "id": "directed-victor",
   "metadata": {},
   "outputs": [],
   "source": [
    "#inizializzazione delle variabili\n",
    "k = 33 #numero autobus\n",
    "n_t = 156 #numero tratte\n",
    "dim = n_t * 2 + 2 #numero nodi del grafo\n",
    "A = [[0]*dim for i in range(dim)]\n",
    "c = [[0]*dim for i in range(dim)]\n",
    "u = [[0]*dim for i in range(dim)]\n",
    "b = [0 for i in range(dim)]\n",
    "b[dim-2] = (-1)*k #nodo radice\n",
    "b[dim-1] = k      #nodo pozzo"
   ]
  },
  {
   "cell_type": "code",
   "execution_count": 5,
   "id": "statewide-strike",
   "metadata": {},
   "outputs": [],
   "source": [
    "#matrice di compatibilità\n",
    "for i in range(1, n_t+1):\n",
    "    for j in range(i+1, n_t+1):\n",
    "        t = t_trasf(i,j)\n",
    "        if((p_v.iloc[i,5]+t)<=p_v.iloc[j,4]):\n",
    "            A[i+n_t-1][j-1]=1\n",
    "            u[i+n_t-1][j-1]=1 "
   ]
  },
  {
   "cell_type": "code",
   "execution_count": 6,
   "id": "interior-complement",
   "metadata": {},
   "outputs": [],
   "source": [
    "#archi (i -> i') \n",
    "for i in range(n_t):\n",
    "    for j in range(n_t):\n",
    "        if(i==j):\n",
    "            A[i][j+n_t]=1\n",
    "            u[i][j+n_t]=1\n",
    "            \n",
    "\n",
    "#archi (r -> i)\n",
    "for j in range(n_t):\n",
    "    A[dim-2][j]=1\n",
    "    u[dim-2][j]=1\n",
    "    \n",
    "#archi (i' -> p)\n",
    "for i in range(n_t):\n",
    "    A[i+n_t][dim-1]=1\n",
    "    u[i+n_t][dim-1]=1\n",
    "    \n",
    "#arco (r -> p)\n",
    "A[dim-2][dim-1]=1\n",
    "u[dim-2][dim-1]=k     "
   ]
  },
  {
   "cell_type": "code",
   "execution_count": 7,
   "id": "assumed-martial",
   "metadata": {},
   "outputs": [],
   "source": [
    "#matrice dei costi\n",
    "for i in range(n_t):\n",
    "    for j in range(n_t):\n",
    "        if(i==j):\n",
    "            c[i][j+n_t]=(-1)*(p_v.iloc[i+1][1])"
   ]
  },
  {
   "cell_type": "code",
   "execution_count": 8,
   "id": "streaming-warrant",
   "metadata": {},
   "outputs": [],
   "source": [
    "m = mip.Model()\n",
    "x = [m.add_var(var_type=mip.INTEGER) for h in range(dim*dim)]"
   ]
  },
  {
   "cell_type": "code",
   "execution_count": 9,
   "id": "offensive-while",
   "metadata": {},
   "outputs": [],
   "source": [
    "#Funzione obbiettivo\n",
    "m.objective = mip.minimize(mip.xsum(c[i][j]*x[(i*dim)+j] for j in range(dim) for i in range(dim) if A[i][j]>0))"
   ]
  },
  {
   "cell_type": "code",
   "execution_count": 10,
   "id": "solid-machinery",
   "metadata": {},
   "outputs": [],
   "source": [
    "#Vincoli di bilancio\n",
    "for i in range(dim):\n",
    "    \n",
    "    BS = []\n",
    "    for k in range(dim):\n",
    "        if(A[k][i]>0):\n",
    "            BS.append(k)\n",
    "    FS = []\n",
    "    for k in range(dim):\n",
    "        if(A[i][k]>0):\n",
    "            FS.append(k)\n",
    "            \n",
    "    m.add_constr(  mip.xsum(x[(j*dim)+i] for j in BS)  -  mip.xsum(x[(i*dim)+j] for j in FS)  ==  b[i])"
   ]
  },
  {
   "cell_type": "code",
   "execution_count": 11,
   "id": "chief-group",
   "metadata": {},
   "outputs": [],
   "source": [
    "for i in range(dim):\n",
    "    for j in range(dim): \n",
    "        if(A[i][j]>0):\n",
    "            m.add_constr(x[(i*dim)+j]>= 0)"
   ]
  },
  {
   "cell_type": "code",
   "execution_count": 12,
   "id": "occupied-retirement",
   "metadata": {},
   "outputs": [],
   "source": [
    "for i in range(dim):\n",
    "    for j in range(dim): \n",
    "        if(A[i][j]>0):\n",
    "            m.add_constr(x[(i*dim)+j]<= u[i][j])"
   ]
  },
  {
   "cell_type": "code",
   "execution_count": 13,
   "id": "nearby-vienna",
   "metadata": {},
   "outputs": [
    {
     "data": {
      "text/plain": [
       "<OptimizationStatus.OPTIMAL: 0>"
      ]
     },
     "execution_count": 13,
     "metadata": {},
     "output_type": "execute_result"
    }
   ],
   "source": [
    "#ottimizzazione\n",
    "m.optimize()\n",
    "\n",
    "#for i in range(dim):\n",
    "    #print([int(x[(i*dim)+j].x) for j in range(dim)])"
   ]
  },
  {
   "cell_type": "code",
   "execution_count": 14,
   "id": "resident-commitment",
   "metadata": {},
   "outputs": [
    {
     "name": "stdout",
     "output_type": "stream",
     "text": [
      "optimal solution cost: -5279.0 \n"
     ]
    }
   ],
   "source": [
    "print('optimal solution cost: {} '.format(m.objective_value))"
   ]
  },
  {
   "cell_type": "code",
   "execution_count": null,
   "id": "average-uruguay",
   "metadata": {},
   "outputs": [],
   "source": []
  }
 ],
 "metadata": {
  "kernelspec": {
   "display_name": "Python 3",
   "language": "python",
   "name": "python3"
  },
  "language_info": {
   "codemirror_mode": {
    "name": "ipython",
    "version": 3
   },
   "file_extension": ".py",
   "mimetype": "text/x-python",
   "name": "python",
   "nbconvert_exporter": "python",
   "pygments_lexer": "ipython3",
   "version": "3.9.2"
  }
 },
 "nbformat": 4,
 "nbformat_minor": 5
}
