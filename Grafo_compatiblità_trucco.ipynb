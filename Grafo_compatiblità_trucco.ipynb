{
 "metadata": {
  "language_info": {
   "codemirror_mode": {
    "name": "ipython",
    "version": 3
   },
   "file_extension": ".py",
   "mimetype": "text/x-python",
   "name": "python",
   "nbconvert_exporter": "python",
   "pygments_lexer": "ipython3",
   "version": "3.9.0"
  },
  "orig_nbformat": 2,
  "kernelspec": {
   "name": "python390jvsc74a57bd0212ba2339021f4235406b6df408ff0728ee814e8f32ea5b108c493c08d38dd68",
   "display_name": "Python 3.9.0 64-bit"
  }
 },
 "nbformat": 4,
 "nbformat_minor": 2,
 "cells": [
  {
   "cell_type": "code",
   "execution_count": 4,
   "metadata": {},
   "outputs": [],
   "source": [
    "import pandas as pd\n",
    "import xlrd\n",
    "import math\n",
    "import mip\n",
    "import datetime\n",
    "\n",
    "# costanti\n",
    "N_TRATTE = 156\n",
    "N_LUOGHI = 16\n",
    "\n",
    "# lettura files\n",
    "tratte = pd.read_excel('file_di_dati.xls', sheet_name=\"porzioni di viaggio\")\n",
    "tempi_vuoto = pd.read_excel('file_di_dati.xls', sheet_name=\"tempi di percorrenza a vuoto\")\n"
   ]
  },
  {
   "cell_type": "code",
   "execution_count": 5,
   "metadata": {},
   "outputs": [],
   "source": [
    "# funzione per convertie i tempi\n",
    "epoch = datetime.datetime.utcfromtimestamp(0)\n",
    "def unix_time_sec(dt):\n",
    "    return (dt - epoch).total_seconds()\n",
    "\n",
    "\n",
    "nomi = {tempi_vuoto.iloc[0][i]:i for i in range(1,17)}\n",
    "\n",
    "def t_trasf(i,j):\n",
    "    a = nomi[tratte.iloc[j][2]]\n",
    "    b = nomi[tratte.iloc[i][3]]\n",
    "    #matrice riempita per metà...\n",
    "    if(math.isnan(tempi_vuoto.iloc[a][b])):\n",
    "        return datetime.timedelta(minutes=tempi_vuoto.iloc[b][a])\n",
    "    return datetime.timedelta(minutes=tempi_vuoto.iloc[a][b])"
   ]
  },
  {
   "source": [
    "Definiamo archi, nodi, flussi e costi\n",
    "\n",
    "i nodi sono per ogni tratta 2\n",
    "in particolare uno è la partenza e uno l' arrivo\n",
    "definisco tutti i nodi, li collgo in base alla tratta \n",
    "definisco anche il nodo pozzo e il nodo sorgente"
   ],
   "cell_type": "markdown",
   "metadata": {}
  },
  {
   "source": [
    "La matrice A ha tra (0,n-tratte*2) tutti i nodi "
   ],
   "cell_type": "markdown",
   "metadata": {}
  },
  {
   "cell_type": "code",
   "execution_count": 6,
   "metadata": {},
   "outputs": [],
   "source": [
    "#inizializzazione delle variabili\n",
    "k = 33 #numero autobus\n",
    "N_TRATTE = 156 #numero tratte\n",
    "NUMERO_NODI = N_TRATTE * 2 + 2 #numero nodi del grafo\n",
    "Archi = [[0]*NUMERO_NODI for i in range(NUMERO_NODI)]\n",
    "costi = [[0]*NUMERO_NODI for i in range(NUMERO_NODI)]\n",
    "flussi = [[0]*NUMERO_NODI for i in range(NUMERO_NODI)]\n",
    "nodi = [0 for i in range(NUMERO_NODI)]\n",
    "nodi[NUMERO_NODI-2] = (-1)*k #nodo radice\n",
    "nodi[NUMERO_NODI-1] = k      #nodo pozzo"
   ]
  },
  {
   "cell_type": "code",
   "execution_count": 7,
   "metadata": {},
   "outputs": [],
   "source": [
    "#matrice di compatibilità\n",
    "for i in range(1, N_TRATTE+1):\n",
    "    for j in range(i+1, N_TRATTE+1):\n",
    "        t = t_trasf(i,j)\n",
    "        if((tratte.iloc[i,5]+t)<=tratte.iloc[j,4]):\n",
    "            Archi[i+N_TRATTE-1][j-1]=1\n",
    "            flussi[i+N_TRATTE-1][j-1]=1 "
   ]
  },
  {
   "cell_type": "code",
   "execution_count": 8,
   "metadata": {},
   "outputs": [],
   "source": [
    "#archi (i -> i') \n",
    "for i in range(N_TRATTE):\n",
    "    for j in range(N_TRATTE):\n",
    "        if(i==j):\n",
    "            Archi[i][j+N_TRATTE]=1\n",
    "            flussi[i][j+N_TRATTE]=1\n",
    "            \n",
    "\n",
    "#archi (r -> i)\n",
    "for j in range(N_TRATTE):\n",
    "    Archi[NUMERO_NODI-2][j]=1\n",
    "    flussi[N_TRATTE-2][j]=1\n",
    "    \n",
    "#archi (i' -> p)\n",
    "for i in range(N_TRATTE):\n",
    "    Archi[i+N_TRATTE][NUMERO_NODI-1]=1\n",
    "    flussi[i+N_TRATTE][NUMERO_NODI-1]=1\n",
    "    \n",
    "#arco (r -> p)\n",
    "Archi[NUMERO_NODI-2][NUMERO_NODI-1]=1\n",
    "flussi[NUMERO_NODI-2][NUMERO_NODI-1]=k  "
   ]
  },
  {
   "cell_type": "code",
   "execution_count": 9,
   "metadata": {},
   "outputs": [],
   "source": [
    "#matrice dei costi\n",
    "for i in range(N_TRATTE):\n",
    "    for j in range(N_TRATTE):\n",
    "        if(i==j):\n",
    "            costi[i][j+N_TRATTE]=(-1)*(tratte.iloc[i+1][1])"
   ]
  },
  {
   "cell_type": "code",
   "execution_count": 10,
   "metadata": {},
   "outputs": [],
   "source": [
    "# <<<<<< creazione modello MIP >>>>>>\n",
    "m = mip.Model()\n",
    "x = [m.add_var(var_type=mip.INTEGER) for h in range(NUMERO_NODI*NUMERO_NODI)]"
   ]
  },
  {
   "cell_type": "code",
   "execution_count": 11,
   "metadata": {},
   "outputs": [],
   "source": [
    "#Vincoli di bilancio\n",
    "for i in range(NUMERO_NODI):\n",
    "    \n",
    "    BS = []\n",
    "    for k in range(NUMERO_NODI):\n",
    "        if(Archi[k][i]>0):\n",
    "            BS.append(k)\n",
    "    FS = []\n",
    "    for k in range(NUMERO_NODI):\n",
    "        if(Archi[i][k]>0):\n",
    "            FS.append(k)\n",
    "            \n",
    "    m.add_constr(  mip.xsum(x[(j*NUMERO_NODI)+i] for j in BS)  -  mip.xsum(x[(i*NUMERO_NODI)+j] for j in FS)  ==  nodi[i])"
   ]
  },
  {
   "cell_type": "code",
   "execution_count": 12,
   "metadata": {},
   "outputs": [],
   "source": [
    "#Funzione obbiettivo\n",
    "m.objective = mip.minimize(mip.xsum(costi[i][j]*x[(i*NUMERO_NODI)+j] for j in range(NUMERO_NODI) for i in range(NUMERO_NODI) if Archi[i][j]>0))"
   ]
  },
  {
   "cell_type": "code",
   "execution_count": 13,
   "metadata": {},
   "outputs": [],
   "source": [
    "for i in range(NUMERO_NODI):\n",
    "    for j in range(NUMERO_NODI): \n",
    "        if(Archi[i][j]>0):\n",
    "            m.add_constr(x[(i*NUMERO_NODI)+j]>= 0)"
   ]
  },
  {
   "cell_type": "code",
   "execution_count": 14,
   "metadata": {},
   "outputs": [],
   "source": [
    "for i in range(NUMERO_NODI):\n",
    "    for j in range(NUMERO_NODI): \n",
    "        if(Archi[i][j]>0):\n",
    "            m.add_constr(x[(i*NUMERO_NODI)+j]<= flussi[i][j])"
   ]
  },
  {
   "cell_type": "code",
   "execution_count": 15,
   "metadata": {},
   "outputs": [
    {
     "output_type": "execute_result",
     "data": {
      "text/plain": [
       "<OptimizationStatus.OPTIMAL: 0>"
      ]
     },
     "metadata": {},
     "execution_count": 15
    }
   ],
   "source": [
    "#ottimizzazione\n",
    "m.optimize()\n",
    "\n",
    "#for i in range(dim):\n",
    "    #print([int(x[(i*dim)+j].x) for j in range(dim)])"
   ]
  },
  {
   "cell_type": "code",
   "execution_count": 16,
   "metadata": {},
   "outputs": [
    {
     "output_type": "stream",
     "name": "stdout",
     "text": [
      "optimal solution cost: 0.0 \n"
     ]
    }
   ],
   "source": [
    "print('optimal solution cost: {} '.format(m.objective_value))"
   ]
  }
 ]
}