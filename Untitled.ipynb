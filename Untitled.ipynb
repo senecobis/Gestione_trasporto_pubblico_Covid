{
 "cells": [
  {
   "cell_type": "code",
   "execution_count": 6,
   "id": "9312c20b",
   "metadata": {},
   "outputs": [
    {
     "output_type": "stream",
     "name": "stdout",
     "text": [
      "0:11:00\n"
     ]
    },
    {
     "output_type": "execute_result",
     "data": {
      "text/plain": [
       "'\\nprint(Tratte[1][4])\\nprint(timedelay)\\nprint(n_di_tratte[0])\\nprint(f\"Da {tempi_vuoto[2][0]} a {tempi_vuoto[0][4]} il tempo di percorrenza è {tempi_vuoto[4][2]} minuti \")\\n'"
      ]
     },
     "metadata": {},
     "execution_count": 6
    }
   ],
   "source": [
    "import pandas as pd\n",
    "import numpy as np\n",
    "import mip\n",
    "from datetime import datetime \n",
    "#from Demos.win32console_demo import z\n",
    "\n",
    "\n",
    "# <<<<<<<<<<<<<  header  >>>>>>>>>>>>>>>\n",
    "\n",
    "# definizioni costanti fittizzie\n",
    "\n",
    "\n",
    "COUNTED_PASSENGERS = 0\n",
    "EXTRA_PASSENGERS = 1\n",
    "INITIAL_STOP = 2\n",
    "FINAL_STOP = 3\n",
    "INITIAL_TIME = 4\n",
    "FINAL_TIME = 5\n",
    "\n",
    "K_AUTOBUS = 10\n",
    "\n",
    "# lettura files\n",
    "\n",
    "Tratte = pd.read_excel('file_di_dati.xls', sheet_name=\"porzioni di viaggio\")\n",
    "tempi_vuoto = pd.read_excel(\"file_di_dati.xls\", sheet_name=\"tempi di percorrenza a vuoto\")\n",
    "\n",
    "# i tempi a vuoto sono una matrice triangolare inferiore in cui gli elementi [0][j] sono i nomi delle partenze e\n",
    "# gli elementi [i][0] le destinazioni. Quindi gli elementi [i][j] rappresentano il tempo per andare a vuoto dalla origine\n",
    "# j alla destinazione i\n",
    "\n",
    "# conversione files\n",
    "\n",
    "Tratte = Tratte.to_numpy()\n",
    "tempi_vuoto = tempi_vuoto.to_numpy()\n",
    "\n",
    "# testings\n",
    "\n",
    "timedelay = Tratte[1][5] - Tratte[1][4]\n",
    "print(timedelay)\n",
    "\n",
    "n_di_tratte = Tratte.shape\n",
    "\n",
    "\n",
    "#converte i tempi di partenza in sec from 1970, serve per fare le operazioni con i numeri\n",
    "for i in range(n_di_tratte[0]):\n",
    "    if i!=0:\n",
    "        Tratte[i][INITIAL_TIME] = datetime.timestamp(Tratte[i][INITIAL_TIME])\n",
    "\n",
    "#converte i tempi di arrivo in sec from 1970, serve per fare le operazioni con i numeri\n",
    "for i in range(n_di_tratte[0]):\n",
    "    if i!=0:\n",
    "        Tratte[i][FINAL_TIME] = datetime.timestamp(Tratte[i][FINAL_TIME])\n",
    "        #print(Tratte[i][FINAL_TIME])\n",
    "\n",
    "\"\"\"\n",
    "print(Tratte[1][4])\n",
    "print(timedelay)\n",
    "print(n_di_tratte[0])\n",
    "print(f\"Da {tempi_vuoto[2][0]} a {tempi_vuoto[0][4]} il tempo di percorrenza è {tempi_vuoto[4][2]} minuti \")\n",
    "\"\"\"\n",
    "\n"
   ]
  },
  {
   "cell_type": "code",
   "execution_count": 7,
   "metadata": {},
   "outputs": [
    {
     "output_type": "stream",
     "name": "stdout",
     "text": [
      "la dimensione della x è (1570,) e della z (10,)\n"
     ]
    },
    {
     "output_type": "error",
     "ename": "NameError",
     "evalue": "name 'tratta_precedente' is not defined",
     "traceback": [
      "\u001b[1;31m---------------------------------------------------------------------------\u001b[0m",
      "\u001b[1;31mNameError\u001b[0m                                 Traceback (most recent call last)",
      "\u001b[1;32m<ipython-input-7-318ce096c65e>\u001b[0m in \u001b[0;36m<module>\u001b[1;34m\u001b[0m\n\u001b[0;32m     25\u001b[0m \u001b[1;32mfor\u001b[0m \u001b[0mi\u001b[0m \u001b[1;32min\u001b[0m \u001b[0mrange\u001b[0m\u001b[1;33m(\u001b[0m\u001b[1;36m0\u001b[0m\u001b[1;33m,\u001b[0m\u001b[1;36m157\u001b[0m\u001b[1;33m*\u001b[0m\u001b[0mK_AUTOBUS\u001b[0m\u001b[1;33m)\u001b[0m\u001b[1;33m:\u001b[0m\u001b[1;33m\u001b[0m\u001b[1;33m\u001b[0m\u001b[0m\n\u001b[0;32m     26\u001b[0m     \u001b[1;32mif\u001b[0m \u001b[0mi\u001b[0m \u001b[1;33m!=\u001b[0m \u001b[1;36m0\u001b[0m\u001b[1;33m:\u001b[0m\u001b[1;33m\u001b[0m\u001b[1;33m\u001b[0m\u001b[0m\n\u001b[1;32m---> 27\u001b[1;33m         \u001b[0mmodello\u001b[0m\u001b[1;33m.\u001b[0m\u001b[0madd_constr\u001b[0m\u001b[1;33m(\u001b[0m\u001b[0mx\u001b[0m\u001b[1;33m[\u001b[0m\u001b[0mi\u001b[0m\u001b[1;33m]\u001b[0m\u001b[1;33m*\u001b[0m\u001b[0mTratte\u001b[0m\u001b[1;33m[\u001b[0m\u001b[0mi\u001b[0m\u001b[1;33m]\u001b[0m\u001b[1;33m[\u001b[0m\u001b[0mINITIAL_TIME\u001b[0m\u001b[1;33m]\u001b[0m\u001b[1;33m>=\u001b[0m\u001b[0mx\u001b[0m\u001b[1;33m[\u001b[0m\u001b[0mi\u001b[0m\u001b[1;33m]\u001b[0m\u001b[1;33m*\u001b[0m\u001b[1;33m(\u001b[0m\u001b[0mTratte\u001b[0m\u001b[1;33m[\u001b[0m\u001b[0mtratta_precedente\u001b[0m\u001b[1;33m]\u001b[0m\u001b[1;33m[\u001b[0m\u001b[0mFINAL_TIME\u001b[0m\u001b[1;33m]\u001b[0m\u001b[1;33m+\u001b[0m\u001b[0mtempi_vuoto\u001b[0m\u001b[1;33m[\u001b[0m\u001b[0mtratta_precedente\u001b[0m\u001b[1;33m]\u001b[0m\u001b[1;33m[\u001b[0m\u001b[0mi\u001b[0m\u001b[1;33m]\u001b[0m\u001b[1;33m)\u001b[0m\u001b[1;33m)\u001b[0m \u001b[1;31m#prende i primi 157 slot di i\u001b[0m\u001b[1;33m\u001b[0m\u001b[1;33m\u001b[0m\u001b[0m\n\u001b[0m\u001b[0;32m     28\u001b[0m         \u001b[1;32mif\u001b[0m \u001b[0mx\u001b[0m\u001b[1;33m[\u001b[0m\u001b[0mi\u001b[0m\u001b[1;33m]\u001b[0m\u001b[1;33m==\u001b[0m\u001b[1;36m1\u001b[0m\u001b[1;33m:\u001b[0m\u001b[1;33m\u001b[0m\u001b[1;33m\u001b[0m\u001b[0m\n\u001b[0;32m     29\u001b[0m             \u001b[0mtratta_precedente\u001b[0m\u001b[1;33m=\u001b[0m\u001b[0mi\u001b[0m\u001b[1;33m\u001b[0m\u001b[1;33m\u001b[0m\u001b[0m\n",
      "\u001b[1;31mNameError\u001b[0m: name 'tratta_precedente' is not defined"
     ]
    }
   ],
   "source": [
    "# <<<<<<<<<<<<< Modello mip >>>>>>>>>>>>>\n",
    "\n",
    "modello = mip.Model()\n",
    "\n",
    "x = np.array([modello.add_var(var_type=mip.BINARY) for i in range(0,n_di_tratte[0]*K_AUTOBUS)])\n",
    "z = np.array([modello.add_var(var_type=mip.INTEGER) for i in range(0,K_AUTOBUS)])\n",
    "\n",
    "dimensionex = x.shape\n",
    "dimensionez = z.shape\n",
    "print(f\"la dimensione della x è {dimensionex} e della z {dimensionez}\")\n",
    "\n",
    "\n",
    "#for j in range(0,K_AUTOBUS):\n",
    " #   z[j] = modello.add_var(var_type=mip.INTEGER)\n",
    "\n",
    "#for j in range(0,K_AUTOBUS):\n",
    "#    for i in range(1,n_di_tratte[0]):\n",
    "#        modello.add_constr(xij*(Tratte[i][INITIAL_STOP]))\n",
    "\n",
    "\n",
    "#m.objective = mip.maximize(110*x1 + 130*x2)\n",
    "\n",
    "#vincolo di compatibilità tra tratte successive\n",
    "j=0\n",
    "for i in range(0,157*K_AUTOBUS):\n",
    "    if i != 0:\n",
    "        modello.add_constr(x[i]*Tratte[i][INITIAL_TIME]>=x[i]*(Tratte[tratta_precedente][FINAL_TIME]+tempi_vuoto[tratta_precedente][i])) #prende i primi 157 slot di i\n",
    "        if x[i]==1:\n",
    "            tratta_precedente=i\n",
    "    if i%157 == 0:\n",
    "        j=j+1"
   ]
  }
 ],
 "metadata": {
  "kernelspec": {
   "name": "python395jvsc74a57bd089c95244fa7d685ba9529f989ff221039b25725b638885f483fe617a76ee8f86",
   "display_name": "Python 3.9.5 64-bit"
  },
  "language_info": {
   "codemirror_mode": {
    "name": "ipython",
    "version": 3
   },
   "file_extension": ".py",
   "mimetype": "text/x-python",
   "name": "python",
   "nbconvert_exporter": "python",
   "pygments_lexer": "ipython3",
   "version": "3.9.5"
  },
  "metadata": {
   "interpreter": {
    "hash": "89c95244fa7d685ba9529f989ff221039b25725b638885f483fe617a76ee8f86"
   }
  }
 },
 "nbformat": 4,
 "nbformat_minor": 5
}