{
 "metadata": {
  "language_info": {
   "codemirror_mode": {
    "name": "ipython",
    "version": 3
   },
   "file_extension": ".py",
   "mimetype": "text/x-python",
   "name": "python",
   "nbconvert_exporter": "python",
   "pygments_lexer": "ipython3",
   "version": "3.9.5"
  },
  "orig_nbformat": 2,
  "kernelspec": {
   "name": "python395jvsc74a57bd089c95244fa7d685ba9529f989ff221039b25725b638885f483fe617a76ee8f86",
   "display_name": "Python 3.9.5 64-bit"
  },
  "metadata": {
   "interpreter": {
    "hash": "89c95244fa7d685ba9529f989ff221039b25725b638885f483fe617a76ee8f86"
   }
  }
 },
 "nbformat": 4,
 "nbformat_minor": 2,
 "cells": [
  {
   "cell_type": "code",
   "execution_count": 11,
   "metadata": {},
   "outputs": [
    {
     "output_type": "stream",
     "name": "stdout",
     "text": [
      "-----------------------------------------------------------\n"
     ]
    }
   ],
   "source": [
    "import pandas as pd\n",
    "import xlrd\n",
    "import mip\n",
    "import networkx as nx\n",
    "import datetime\n",
    "\n",
    "# definizioni costanti fittizzie\n",
    "\n",
    "COUNTED_PASSENGERS = 0\n",
    "EXTRA_PASSENGERS = 1\n",
    "INITIAL_STOP = 2\n",
    "FINAL_STOP = 3\n",
    "INITIAL_TIME = 4\n",
    "FINAL_TIME = 5\n",
    "K_AUTOBUS = 33\n",
    "\n",
    "# lettura files\n",
    "\n",
    "Tratte = pd.read_excel('file_di_dati.xlsx', sheet_name=\"porzioni di viaggio\")\n",
    "t_v = pd.read_excel('file_di_dati.xlsx', sheet_name=\"tempi di percorrenza a vuoto\")\n",
    "\n",
    "#print(Tratte)\n",
    "'print(tempi_vuoto)'\n",
    "\n",
    "'''\n",
    "Tratte = Tratte.to_numpy()\n",
    "tempi_vuoto = tempi_vuoto.to_numpy()\n",
    "\n",
    "print(Tratte)\n",
    "#print(tempi_vuoto)\n",
    "'''\n",
    "\n",
    "# metto tutte le colonne in un array\n",
    "\n",
    "counted_passengers = pd.read_excel(\"file_di_dati.xlsx\",'porzioni di viaggio', usecols='A', skiprows=[0]) \n",
    "counted_passengers = counted_passengers.values.tolist()\n",
    "\n",
    "extra_passengers = pd.read_excel(\"file_di_dati.xlsx\",'porzioni di viaggio', usecols='B', skiprows=[0])\n",
    "extra_passengers = extra_passengers.values.tolist() \n",
    "n_extra_passengers = len(extra_passengers)\n",
    "n_tratte = n_extra_passengers\n",
    "\n",
    "initial_stop = pd.read_excel(\"file_di_dati.xlsx\",'porzioni di viaggio', usecols='C', skiprows=[0]) \n",
    "initial_stop = initial_stop.values.tolist()\n",
    "\n",
    "final_stop = pd.read_excel(\"file_di_dati.xlsx\",'porzioni di viaggio', usecols='D', skiprows=[0]) \n",
    "final_stop = final_stop.values.tolist()\n",
    "\n",
    "initial_time = pd.read_excel(\"file_di_dati.xlsx\",'porzioni di viaggio', usecols='E', skiprows=[0]) \n",
    "initial_time = initial_time.values.tolist()\n",
    "\n",
    "final_time = pd.read_excel(\"file_di_dati.xlsx\",'porzioni di viaggio', usecols='F', skiprows=[0]) \n",
    "final_time = final_time.values.tolist()\n",
    "\n",
    "print('-----------------------------------------------------------')\n",
    "\n",
    "# funzione per convertie i tempi\n",
    "\n",
    "epoch = datetime.datetime.utcfromtimestamp(0)\n",
    "\n",
    "def unix_time_sec(dt):\n",
    "    return (dt - epoch).total_seconds()\n",
    "\n"
   ]
  },
  {
   "cell_type": "code",
   "execution_count": 12,
   "metadata": {},
   "outputs": [
    {
     "output_type": "stream",
     "name": "stdout",
     "text": [
      "nan\npiazzale medaglie d’oro\npiazzale dante\n"
     ]
    }
   ],
   "source": [
    "\n",
    "# qua bisogna sistemare i nomi di tempi a vuoto\n",
    "#questo for rende tutti i nomi omogenei a quelli delle righa zeresima cambiando la col zeresima\n",
    "\n",
    "tempi_vuoto = (t_v.values.tolist())\n",
    "luoghi = tempi_vuoto[0][:]\n",
    "luoghi.pop(0)\n",
    "n_luoghi = len(luoghi)\n",
    "\n",
    "for i in range(n_luoghi):\n",
    "    if tempi_vuoto[i][0]!=tempi_vuoto[0][i]:\n",
    "            print(tempi_vuoto[i][0])\n",
    "            tempi_vuoto[i][0]=tempi_vuoto[0][i]\n",
    "\n",
    "#ribalto la matrice per potere scrivere tratte_vuoto[i][j]\n",
    "for i in range(n_luoghi+1):\n",
    "    for j in range(n_luoghi+1):\n",
    "        if i>j:\n",
    "            tempi_vuoto[j][i]=tempi_vuoto[i][j]\n",
    "        if i == j:\n",
    "            tempi_vuoto[i][j]=0\n",
    "\n",
    "\n",
    "#print(luoghi)\n",
    "n_luoghi = len(luoghi)\n",
    "#print(n_luoghi)\n",
    "#print(tempi_vuoto)\n",
    "\n",
    "luoghi_to_indici = {luoghi[i]:i+1 for i in range(n_luoghi)}\n",
    "\n",
    "\n",
    "# usiamo un dizionario in cui ogni nome corrisponde a un indice\n",
    "\n",
    "#print(luoghi_to_indici)\n",
    "\n",
    "\n"
   ]
  },
  {
   "cell_type": "code",
   "execution_count": 14,
   "metadata": {},
   "outputs": [
    {
     "output_type": "execute_result",
     "data": {
      "text/plain": [
       "'\\ns = 0\\nt = n_tratte+1\\n\\nnodi_partenze = []\\n\\nfor i in range(1,n_tratte+1):\\n    nodi_partenze.append(i)\\n\\nnodi_arrivi = []\\n\\nfor i in range(1,n_tratte+1):\\n    nodi_arrivi.append(i)\\n\\n\\nprint(nodi_arrivi)\\n\\n'"
      ]
     },
     "metadata": {},
     "execution_count": 14
    }
   ],
   "source": [
    "# i nodi sono per ogni tratta 2\n",
    "# in particolare uno è la partenza e uno l' arrivo\n",
    "# definisco tutti i nodi, li collgo in base alla tratta \n",
    "# definisco anche il nodo pozzo e il nodo sorgente\n",
    "'''\n",
    "s = 0\n",
    "t = n_tratte+1\n",
    "\n",
    "nodi_partenze = []\n",
    "\n",
    "for i in range(1,n_tratte+1):\n",
    "    nodi_partenze.append(i)\n",
    "\n",
    "nodi_arrivi = []\n",
    "\n",
    "for i in range(1,n_tratte+1):\n",
    "    nodi_arrivi.append(i)\n",
    "\n",
    "\n",
    "print(nodi_arrivi)\n",
    "\n",
    "'''"
   ]
  },
  {
   "cell_type": "code",
   "execution_count": 8,
   "metadata": {},
   "outputs": [],
   "source": [
    "# nodi = tratte\n",
    "N = []\n",
    "for i in range(0,n_tratte+1):\n",
    "    N.append(i) #il nodo 0 è n e l'n_tratte+1 è t\n"
   ]
  },
  {
   "cell_type": "code",
   "execution_count": 10,
   "metadata": {},
   "outputs": [
    {
     "output_type": "error",
     "ename": "KeyError",
     "evalue": "'medaglie d’oro'",
     "traceback": [
      "\u001b[1;31m---------------------------------------------------------------------------\u001b[0m",
      "\u001b[1;31mKeyError\u001b[0m                                  Traceback (most recent call last)",
      "\u001b[1;32m<ipython-input-10-a9f29cd17054>\u001b[0m in \u001b[0;36m<module>\u001b[1;34m\u001b[0m\n\u001b[0;32m     25\u001b[0m \u001b[1;31m# archi compatibilità\u001b[0m\u001b[1;33m\u001b[0m\u001b[1;33m\u001b[0m\u001b[1;33m\u001b[0m\u001b[0m\n\u001b[0;32m     26\u001b[0m \u001b[1;32mfor\u001b[0m \u001b[0mi\u001b[0m \u001b[1;32min\u001b[0m \u001b[0mrange\u001b[0m\u001b[1;33m(\u001b[0m\u001b[0mn_tratte\u001b[0m\u001b[1;33m)\u001b[0m\u001b[1;33m:\u001b[0m\u001b[1;33m\u001b[0m\u001b[1;33m\u001b[0m\u001b[0m\n\u001b[1;32m---> 27\u001b[1;33m     \u001b[0mindice_luogo_corrente\u001b[0m \u001b[1;33m=\u001b[0m \u001b[0mluoghi_to_indici\u001b[0m\u001b[1;33m[\u001b[0m\u001b[0mfinal_stop\u001b[0m\u001b[1;33m[\u001b[0m\u001b[0mi\u001b[0m\u001b[1;33m]\u001b[0m\u001b[1;33m[\u001b[0m\u001b[1;36m0\u001b[0m\u001b[1;33m]\u001b[0m\u001b[1;33m]\u001b[0m\u001b[1;33m\u001b[0m\u001b[1;33m\u001b[0m\u001b[0m\n\u001b[0m\u001b[0;32m     28\u001b[0m     \u001b[1;32mfor\u001b[0m \u001b[0mj\u001b[0m \u001b[1;32min\u001b[0m \u001b[0mrange\u001b[0m\u001b[1;33m(\u001b[0m\u001b[0mn_tratte\u001b[0m\u001b[1;33m)\u001b[0m\u001b[1;33m:\u001b[0m\u001b[1;33m\u001b[0m\u001b[1;33m\u001b[0m\u001b[0m\n\u001b[0;32m     29\u001b[0m         \u001b[0mindice_luogo_desiderato\u001b[0m \u001b[1;33m=\u001b[0m \u001b[0mluoghi_to_indici\u001b[0m\u001b[1;33m[\u001b[0m\u001b[0minitial_stop\u001b[0m\u001b[1;33m[\u001b[0m\u001b[0mj\u001b[0m\u001b[1;33m]\u001b[0m\u001b[1;33m[\u001b[0m\u001b[1;36m0\u001b[0m\u001b[1;33m]\u001b[0m\u001b[1;33m]\u001b[0m\u001b[1;33m\u001b[0m\u001b[1;33m\u001b[0m\u001b[0m\n",
      "\u001b[1;31mKeyError\u001b[0m: 'medaglie d’oro'"
     ]
    }
   ],
   "source": [
    "'''\n",
    "A = []\n",
    "# arco s\n",
    "#arco t\n",
    " \n",
    "# archi compatibilità\n",
    "for i in range (n_tratte):\n",
    "    for j in range(n_tratte):\n",
    "        if i!= j and initial_time[j] <= final_time[i] + tempi_vuoto[i][j]:\n",
    "            A.append((i,j))\n",
    "            print(A[i][j])\n",
    "\n",
    "\n",
    "COMP = []\n",
    "# archi bilancio\n",
    "for i in range(len(initial_stop)):\n",
    "    COMP.append((i,i)\n",
    "'''\n",
    "A= []\n",
    "# arco s\n",
    "s = 0\n",
    "for j in range (n_tratte):\n",
    "    A.append((s,j))\n",
    "    \n",
    "# archi compatibilità\n",
    "for i in range(n_tratte):\n",
    "    indice_luogo_corrente = luoghi_to_indici[final_stop[i][0]]\n",
    "    for j in range(n_tratte):\n",
    "        indice_luogo_desiderato = luoghi_to_indici[initial_stop[j][0]]\n",
    "    if i!= j and initial_time[j][0] <= final_time[i][0] + tempi_vuoto[i][j]:\n",
    "        A.append((i+1,j+1))\n",
    "#arco t\n",
    "t = n_tratte+2\n",
    "for i in range(n_tratte):\n",
    "    A.append((i,t))\n",
    "\n",
    "print(A)"
   ]
  },
  {
   "cell_type": "code",
   "execution_count": 19,
   "metadata": {},
   "outputs": [
    {
     "output_type": "error",
     "ename": "IndexError",
     "evalue": "list index out of range",
     "traceback": [
      "\u001b[1;31m---------------------------------------------------------------------------\u001b[0m",
      "\u001b[1;31mIndexError\u001b[0m                                Traceback (most recent call last)",
      "\u001b[1;32m<ipython-input-19-35a199636a83>\u001b[0m in \u001b[0;36m<module>\u001b[1;34m\u001b[0m\n\u001b[0;32m     34\u001b[0m \u001b[0mP_recuperati\u001b[0m\u001b[1;33m.\u001b[0m\u001b[0mappend\u001b[0m\u001b[1;33m(\u001b[0m\u001b[0mm\u001b[0m\u001b[1;33m[\u001b[0m\u001b[0mb\u001b[0m\u001b[1;33m]\u001b[0m\u001b[1;33m.\u001b[0m\u001b[0mobjective_value\u001b[0m\u001b[1;33m)\u001b[0m\u001b[1;33m\u001b[0m\u001b[1;33m\u001b[0m\u001b[0m\n\u001b[0;32m     35\u001b[0m \u001b[1;33m\u001b[0m\u001b[0m\n\u001b[1;32m---> 36\u001b[1;33m \u001b[0mprint\u001b[0m\u001b[1;33m(\u001b[0m\u001b[1;34mf\"\\nIl Bus {b} raccoglie {P_recuperati[b]} passeggeri: \\n\"\u001b[0m\u001b[1;33m)\u001b[0m\u001b[1;33m\u001b[0m\u001b[1;33m\u001b[0m\u001b[0m\n\u001b[0m\u001b[0;32m     37\u001b[0m \u001b[0meliminare\u001b[0m \u001b[1;33m=\u001b[0m \u001b[1;33m[\u001b[0m\u001b[1;33m]\u001b[0m\u001b[1;33m\u001b[0m\u001b[1;33m\u001b[0m\u001b[0m\n\u001b[0;32m     38\u001b[0m \u001b[1;32mfor\u001b[0m \u001b[1;33m(\u001b[0m\u001b[0mi\u001b[0m\u001b[1;33m,\u001b[0m\u001b[0mj\u001b[0m\u001b[1;33m)\u001b[0m \u001b[1;32min\u001b[0m \u001b[0mA\u001b[0m\u001b[1;33m:\u001b[0m\u001b[1;33m\u001b[0m\u001b[1;33m\u001b[0m\u001b[0m\n",
      "\u001b[1;31mIndexError\u001b[0m: list index out of range"
     ]
    }
   ],
   "source": [
    "# >>>>>> variabili <<<<<<\n",
    "m=[]\n",
    "P_recuperati = []\n",
    "\n",
    "for b in range(K_AUTOBUS):\n",
    "    X=[]\n",
    "    m.append(mip.Model())\n",
    "\n",
    "X={(i,j): m[b].add_var(var_type = mip.BINARY) for (i,j) in A}     # Variabile Booleana (se prendo il relativo arco (i,j))\n",
    "\n",
    "\n",
    "# >>>>>> vincoli <<<<<<\n",
    "\n",
    "for i in N:\n",
    "        if i==0:\n",
    "            m[b].add_constr(mip.xsum(X[i,j] for j in N if (i,j) in A) -      # Outgoing flow from i\n",
    "                         mip.xsum(X[j,i] for j in N if (j,i) in A) ==        # Incoming flow into i\n",
    "                         1) #1= num bus\n",
    "        if i==n_tratte+1:\n",
    "            m[b].add_constr(mip.xsum(X[i,j] for j in N if (i,j) in A) -      # Outgoing flow from i\n",
    "                         mip.xsum(X[j,i] for j in N if (j,i) in A) ==        # Incoming flow into i\n",
    "                         -1)\n",
    "        if i!=0 and i!=n_tratte+1:\n",
    "            m[b].add_constr(mip.xsum(X[i,j] for j in N if (i,j) in A) -      # Outgoing flow from i\n",
    "                         mip.xsum(X[j,i] for j in N if (j,i) in A) ==        # Incoming flow into i\n",
    "                         0)\n",
    "\n",
    "\n",
    "\n",
    "# STAMPA della SOLUZIONE:\n",
    "\n",
    "status = m[b].optimize()  \n",
    "\n",
    "P_recuperati.append(m[b].objective_value)\n",
    "\n",
    "print(f\"\\nIl Bus {b} raccoglie {P_recuperati[b]} passeggeri: \\n\")\n",
    "eliminare = []\n",
    "for (i,j) in A:\n",
    "    if(X[i,j].x):\n",
    "        print(f\"prendo l'arco {i} --> {j}\")\n",
    "        if j == p+2:\n",
    "            eliminare.append((i,j))\n",
    "        else:\n",
    "            for z in V:\n",
    "                if (z,j) in A:\n",
    "                    eliminare.append((z,j))\n",
    "        \n",
    "for x in eliminare:        # Ad ogni bus che \"spediamo\" sulla rete, togliamo i relativi archi che vengono scelti\n",
    "    A.remove(x)            # Così mano a mano avremo un grafo con meno archi (e quindi meno persone extra da raccogliere)\n",
    "    \n",
    "tot_passeggeri += m[b].objective_value\n",
    "print(f\"\\n--> Il Totale dei passeggeri recuperati fino ad ora è: {tot_passeggeri} \\n \\n\")   \n"
   ]
  },
  {
   "cell_type": "code",
   "execution_count": null,
   "metadata": {},
   "outputs": [],
   "source": []
  }
 ]
}