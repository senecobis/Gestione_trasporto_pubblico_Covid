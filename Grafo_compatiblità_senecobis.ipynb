{
 "metadata": {
  "language_info": {
   "codemirror_mode": {
    "name": "ipython",
    "version": 3
   },
   "file_extension": ".py",
   "mimetype": "text/x-python",
   "name": "python",
   "nbconvert_exporter": "python",
   "pygments_lexer": "ipython3",
   "version": "3.9.0"
  },
  "orig_nbformat": 2,
  "kernelspec": {
   "name": "python390jvsc74a57bd0212ba2339021f4235406b6df408ff0728ee814e8f32ea5b108c493c08d38dd68",
   "display_name": "Python 3.9.0 64-bit"
  }
 },
 "nbformat": 4,
 "nbformat_minor": 2,
 "cells": [
  {
   "cell_type": "code",
   "execution_count": 20,
   "metadata": {},
   "outputs": [],
   "source": [
    "\n",
    "import pandas as pd\n",
    "import xlrd\n",
    "import mip\n",
    "import datetime\n",
    "\n",
    "# costanti\n",
    "N_TRATTE = 156\n",
    "N_LUOGHI = 16\n",
    "\n",
    "\n",
    "# lettura files\n",
    "Tratte = pd.read_excel('file_di_dati.xlsx', sheet_name=\"porzioni di viaggio\")\n",
    "t_v = pd.read_excel('file_di_dati.xlsx', sheet_name=\"tempi di percorrenza a vuoto\")\n",
    "\n",
    "# metto tutte le colonne in un array\n",
    "passeggeri = pd.read_excel(\"file_di_dati.xlsx\",'porzioni di viaggio', usecols='B', skiprows=[0])\n",
    "extra_passengers = [passeggeri.values.tolist()]\n",
    "\n",
    "\n",
    "init_stop = pd.read_excel(\"file_di_dati.xlsx\",'porzioni di viaggio', usecols='C', skiprows=[0])\n",
    "inital_stop = [init_stop.values.tolist()]\n",
    "\n",
    "\n",
    "fin_stop = pd.read_excel(\"file_di_dati.xlsx\",'porzioni di viaggio', usecols='D', skiprows=[0])\n",
    "final_stop = [fin_stop.values.tolist()]\n",
    "\n",
    "init_time = pd.read_excel(\"file_di_dati.xlsx\",'porzioni di viaggio', usecols='E', skiprows=[0]) \n",
    "initial_time = [init_time.values.tolist()]\n",
    "\n",
    "fin_time = pd.read_excel(\"file_di_dati.xlsx\",'porzioni di viaggio', usecols='F', skiprows=[0]) \n",
    "final_time = [fin_time.values.tolist()]\n",
    "\n",
    "#tempi a vuoto\n",
    "tempi_vuoto = (t_v.values.tolist())\n",
    "#print(tempi_vuoto)\n",
    "\n",
    "# funzione per convertie i tempi\n",
    "epoch = datetime.datetime.utcfromtimestamp(0)\n",
    "def unix_time_sec(dt):\n",
    "    return (dt - epoch).total_seconds()\n",
    "\n"
   ]
  },
  {
   "cell_type": "code",
   "execution_count": 26,
   "metadata": {},
   "outputs": [
    {
     "output_type": "stream",
     "name": "stdout",
     "text": [
      "[[0, 'stazione', 'kennedy', 'barriera', 'canapa', 'ospedale', 'medaglie d’oro', 'p. dante', 'pontegradella itis', 'barlaam', 'cavour giardini', 'santa maria maddalena', 'autostazione', 'corti di medoro', 'giovecca montebello', 'barco', 'malborghetto'], ['stazione', 0, 10, 3, 10, 20, 10, 10, 12, 10, 5, 20, 5, 15, 8, 15, 25], ['kennedy', 10, 0, 10, 15, 15, 5, 15, 7, 5, 5, 25, 10, 5, 7, 20, 25], ['barriera', 3, 10, 0, 10, 20, 8, 10, 10, 10, 3, 20, 5, 15, 5, 15, 25], ['canapa', 10, 15, 10, 0, 25, 10, 5, 10, 12, 12, 18, 10, 15, 20, 3, 15], ['ospedale', 20, 15, 20, 25, 0, 15, 25, 20, 25, 20, 30, 20, 20, 15, 25, 30], ['medaglie d’oro', 10, 5, 8, 10, 15, 0, 10, 3, 15, 5, 25, 10, 12, 3, 12, 20], ['p. dante', 10, 15, 10, 5, 25, 10, 0, 8, 10, 10, 20, 12, 15, 10, 8, 13], ['pontegradella itis', 12, 7, 10, 10, 20, 3, 8, 0, 17, 7, 25, 12, 15, 5, 12, 20], ['barlaam', 10, 5, 10, 12, 25, 15, 10, 17, 0, 12, 25, 5, 3, 10, 20, 25], ['cavour giardini', 5, 5, 3, 12, 20, 5, 10, 7, 12, 0, 25, 7, 7, 5, 20, 20], ['santa maria maddalena', 20, 25, 20, 18, 30, 25, 20, 25, 25, 25, 0, 20, 25, 25, 7, 20], ['autostazione', 5, 10, 5, 10, 20, 10, 12, 12, 5, 7, 20, 0, 12, 10, 10, 30], ['corti di medoro', 15, 5, 15, 15, 20, 12, 15, 15, 3, 7, 25, 12, 0, 12, 22, 25], ['giovecca montebello', 8, 7, 5, 20, 15, 3, 10, 5, 10, 5, 25, 10, 12, 0, 15, 22], ['barco', 15, 20, 15, 3, 25, 12, 8, 12, 20, 20, 7, 10, 22, 15, 0, 15], ['malborghetto', 25, 25, 25, 15, 30, 20, 13, 20, 25, 20, 20, 30, 25, 22, 15, 0]]\n"
     ]
    }
   ],
   "source": [
    "# uniformo i nomi tra tempi di percorrenza e tempi a vuoto\n",
    "#print(len(init_stop))\n",
    "#for i in range(0,len(init_stop)):\n",
    "#    initial_stop[i] = initial_stop[i].strip()\n",
    "#    final_stop[i] = final_stop[i].strip()\n",
    "\n",
    "#ribalto la matrice per potere scrivere tratte_vuoto[i][j]\n",
    "for i in range(N_LUOGHI+1):\n",
    "    for j in range(N_LUOGHI+1):\n",
    "        if i>j:\n",
    "            tempi_vuoto[j][i]=tempi_vuoto[i][j]\n",
    "        if i == j:\n",
    "            tempi_vuoto[i][j]=0\n",
    "\n",
    "luoghi = tempi_vuoto[0][:]\n",
    "luoghi.pop(0)\n",
    "print(tempi_vuoto)\n",
    "# usiamo un dizionario in cui ogni nome corrisponde a un indice\n",
    "luoghi_to_indici = {luoghi[i]:i for i in range(N_LUOGHI)}\n",
    "\n"
   ]
  },
  {
   "cell_type": "code",
   "execution_count": 4,
   "metadata": {},
   "outputs": [],
   "source": [
    "# i nodi sono per ogni tratta 2\n",
    "# in particolare uno è la partenza e uno l' arrivo\n",
    "# definisco tutti i nodi, li collgo in base alla tratta \n",
    "# definisco anche il nodo pozzo e il nodo sorgente\n",
    "\n",
    "s = 0\n",
    "t = n_tratte+1\n",
    "\n",
    "nodi_partenze = []\n",
    "\n",
    "for i in range(1,n_tratte+1):\n",
    "    nodi_partenze.append(i)\n",
    "\n",
    "nodi_arrivi = []\n",
    "\n",
    "for i in range(1,n_tratte+1):\n",
    "    nodi_arrivi.append(i)\n",
    "\n",
    "\n",
    "#print(nodi_arrivi)\n",
    "\n"
   ]
  },
  {
   "source": [
    "Definiamo archi, nodi, flussi e costi\n",
    "\n",
    "i nodi sono per ogni tratta 2\n",
    "in particolare uno è la partenza e uno l' arrivo\n",
    "definisco tutti i nodi, li collgo in base alla tratta \n",
    "definisco anche il nodo pozzo e il nodo sorgente"
   ],
   "cell_type": "markdown",
   "metadata": {}
  },
  {
   "cell_type": "code",
   "execution_count": null,
   "metadata": {},
   "outputs": [],
   "source": [
    "\n",
    "\n",
    "A=[[]*]"
   ]
  },
  {
   "cell_type": "code",
   "execution_count": 5,
   "metadata": {
    "tags": []
   },
   "outputs": [],
   "source": [
    "A = []\n",
    "\n",
    "# arco s\n",
    "s = 0\n",
    "for j in range (n_tratte):\n",
    "    A.append((s,j))\n",
    "    \n",
    "# archi compatibilità\n",
    "for i in range(n_tratte):\n",
    "    indice_luogo_corrente = luoghi_to_indici[final_stop[i][0]]\n",
    "    for j in range(n_tratte):\n",
    "        indice_luogo_desiderato = luoghi_to_indici[initial_stop[j][0]]\n",
    "        if i!= j and initial_time[j][0] <= final_time[i][0] + tempi_vuoto[indice_luogo_corrente+1][indice_luogo_desiderato+1]:\n",
    "            A.append((i+1,j+1))\n",
    "\n",
    "# archi bilancio\n",
    "#arco t\n",
    "t = n_tratte+2\n",
    "for i in range(n_tratte):\n",
    "    A.append((i,t))\n",
    "\n",
    "#print(A)"
   ]
  },
  {
   "cell_type": "code",
   "execution_count": null,
   "metadata": {},
   "outputs": [],
   "source": []
  }
 ]
}