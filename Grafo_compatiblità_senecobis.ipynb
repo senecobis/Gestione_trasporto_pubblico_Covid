{
 "metadata": {
  "language_info": {
   "codemirror_mode": {
    "name": "ipython",
    "version": 3
   },
   "file_extension": ".py",
   "mimetype": "text/x-python",
   "name": "python",
   "nbconvert_exporter": "python",
   "pygments_lexer": "ipython3",
   "version": "3.9.0"
  },
  "orig_nbformat": 2,
  "kernelspec": {
   "name": "python390jvsc74a57bd0212ba2339021f4235406b6df408ff0728ee814e8f32ea5b108c493c08d38dd68",
   "display_name": "Python 3.9.0 64-bit"
  }
 },
 "nbformat": 4,
 "nbformat_minor": 2,
 "cells": [
  {
   "cell_type": "code",
   "execution_count": 3,
   "metadata": {},
   "outputs": [
    {
     "output_type": "stream",
     "name": "stdout",
     "text": [
      "-----------------------------------------------------------\n"
     ]
    }
   ],
   "source": [
    "import pandas as pd\n",
    "import xlrd\n",
    "import mip\n",
    "import networkx as nx\n",
    "import datetime\n",
    "\n",
    "# definizioni costanti fittizzie\n",
    "\n",
    "COUNTED_PASSENGERS = 0\n",
    "EXTRA_PASSENGERS = 1\n",
    "INITIAL_STOP = 2\n",
    "FINAL_STOP = 3\n",
    "INITIAL_TIME = 4\n",
    "FINAL_TIME = 5\n",
    "K_AUTOBUS = 33\n",
    "\n",
    "# lettura files\n",
    "\n",
    "Tratte = pd.read_excel('file_di_dati.xlsx', sheet_name=\"porzioni di viaggio\")\n",
    "t_v = pd.read_excel('file_di_dati.xlsx', sheet_name=\"tempi di percorrenza a vuoto\")\n",
    "\n",
    "#print(Tratte)\n",
    "'print(tempi_vuoto)'\n",
    "\n",
    "print('-----------------------------------------------------------')\n",
    "\n",
    "'''\n",
    "Tratte = Tratte.to_numpy()\n",
    "tempi_vuoto = tempi_vuoto.to_numpy()\n",
    "\n",
    "print(Tratte)\n",
    "#print(tempi_vuoto)\n",
    "'''\n",
    "\n",
    "# metto tutte le colonne in un array\n",
    "\n",
    "counted_passengers = pd.read_excel(\"file_di_dati.xlsx\",'porzioni di viaggio', usecols='A', skiprows=[0]) \n",
    "counted_passengers = counted_passengers.values.tolist()\n",
    "\n",
    "extra_passengers = pd.read_excel(\"file_di_dati.xlsx\",'porzioni di viaggio', usecols='B', skiprows=[0])\n",
    "extra_passengers = extra_passengers.values.tolist() \n",
    "n_extra_passengers = len(extra_passengers)\n",
    "n_tratte = n_extra_passengers\n",
    "\n",
    "initial_stop = pd.read_excel(\"file_di_dati.xlsx\",'porzioni di viaggio', usecols='C', skiprows=[0]) \n",
    "initial_stop = initial_stop.values.tolist()\n",
    "\n",
    "\n",
    "final_stop = pd.read_excel(\"file_di_dati.xlsx\",'porzioni di viaggio', usecols='D', skiprows=[0]) \n",
    "final_stop = final_stop.values.tolist()\n",
    "\n",
    "initial_time = pd.read_excel(\"file_di_dati.xlsx\",'porzioni di viaggio', usecols='E', skiprows=[0]) \n",
    "initial_time = initial_time.values.tolist()\n",
    "\n",
    "final_time = pd.read_excel(\"file_di_dati.xlsx\",'porzioni di viaggio', usecols='F', skiprows=[0]) \n",
    "final_time = final_time.values.tolist()\n",
    "\n",
    "#print(final_time[0][0]-initial_time[0][0])\n",
    "#print(initial_stop[0][0])\n",
    "\n",
    "# funzione per convertie i tempi\n",
    "\n",
    "epoch = datetime.datetime.utcfromtimestamp(0)\n",
    "\n",
    "def unix_time_sec(dt):\n",
    "    return (dt - epoch).total_seconds()\n",
    "\n"
   ]
  },
  {
   "cell_type": "code",
   "execution_count": 4,
   "metadata": {},
   "outputs": [],
   "source": [
    "# uniformo i nomi tra tempi di percorrenza e tempi a vuoto\n",
    "\n",
    "for i in range(n_tratte):\n",
    "\n",
    "    initial_stop[i][0].strip()\n",
    "    final_stop[i][0].strip()\n",
    "\n",
    "    if initial_stop[i][0] == 'stazione fs':\n",
    "         initial_stop[i][0] = 'stazione'\n",
    "\n",
    "    if initial_stop[i][0] == 'p. medaglie d’oro':\n",
    "        initial_stop[i][0] = 'medaglie d’oro'\n",
    "\n",
    "    if initial_stop[i][0] == 'piazzale medaglie d’oro':\n",
    "        initial_stop[i][0] = 'medaglie d’oro'\n",
    "\n",
    "    if initial_stop[i][0] == 'piazzale dante':\n",
    "        initial_stop[i][0] = 'p. dante'\n",
    "\n",
    "    if final_stop[i][0] == 'stazione fs':\n",
    "         final_stop[i][0] = 'stazione'\n",
    "\n",
    "    if final_stop[i][0] == 'p. medaglie d’oro':\n",
    "        final_stop[i][0] = 'medaglie d’oro'\n",
    "\n",
    "    if final_stop[i][0] == 'piazzale medaglie d’oro':\n",
    "        final_stop[i][0] = 'medaglie d’oro'\n",
    "\n",
    "    if final_stop[i][0] == 'piazzale dante':\n",
    "        final_stop[i][0] = 'p. dante'\n",
    "\n",
    "for i in range(1,n_tratte):\n",
    "    initial_stop[i][0] = initial_stop[i][0].strip()\n",
    "    final_stop[i][0] = final_stop[i][0].strip()\n",
    "\n"
   ]
  },
  {
   "cell_type": "code",
   "execution_count": 5,
   "metadata": {},
   "outputs": [
    {
     "output_type": "stream",
     "name": "stdout",
     "text": [
      "nan\n['stazione', 'kennedy', 'barriera', 'canapa', 'ospedale', 'medaglie d’oro', 'p. dante', 'pontegradella itis', 'barlaam', 'cavour giardini', 'santa maria maddalena', 'autostazione', 'corti di medoro', 'giovecca montebello', 'barco', 'malborghetto']\n"
     ]
    }
   ],
   "source": [
    "\n",
    "# qua bisogna sistemare i nomi di tempi a vuoto\n",
    "#questo for rende tutti i nomi omogenei a quelli delle righa zeresima cambiando la col zeresima\n",
    "\n",
    "tempi_vuoto = (t_v.values.tolist())\n",
    "n_luoghi = len(tempi_vuoto[0][:])-1\n",
    "\n",
    "for i in range(n_luoghi):\n",
    "    if tempi_vuoto[i][0]!=tempi_vuoto[0][i]:\n",
    "        print(tempi_vuoto[i][0])\n",
    "        tempi_vuoto[i][0]=tempi_vuoto[0][i]\n",
    "\n",
    "#ribalto la matrice per potere scrivere tratte_vuoto[i][j]\n",
    "for i in range(n_luoghi+1):\n",
    "    for j in range(n_luoghi+1):\n",
    "        if i>j:\n",
    "            tempi_vuoto[j][i]=tempi_vuoto[i][j]\n",
    "        if i == j:\n",
    "            tempi_vuoto[i][j]=0\n",
    "\n",
    "luoghi = tempi_vuoto[0][:]\n",
    "luoghi.pop(0)\n",
    "\n",
    "print(luoghi)\n",
    "#print(n_luoghi)\n",
    "#print(tempi_vuoto)\n",
    "\n",
    "luoghi_to_indici = {luoghi[i]:i for i in range(n_luoghi)}\n",
    "\n",
    "\n",
    "# usiamo un dizionario in cui ogni nome corrisponde a un indice\n",
    "\n",
    "#print(luoghi_to_indici[luoghi[2]])\n",
    "\n",
    "\n"
   ]
  },
  {
   "cell_type": "code",
   "execution_count": 6,
   "metadata": {},
   "outputs": [
    {
     "output_type": "stream",
     "name": "stdout",
     "text": [
      "[1, 2, 3, 4, 5, 6, 7, 8, 9, 10, 11, 12, 13, 14, 15, 16, 17, 18, 19, 20, 21, 22, 23, 24, 25, 26, 27, 28, 29, 30, 31, 32, 33, 34, 35, 36, 37, 38, 39, 40, 41, 42, 43, 44, 45, 46, 47, 48, 49, 50, 51, 52, 53, 54, 55, 56, 57, 58, 59, 60, 61, 62, 63, 64, 65, 66, 67, 68, 69, 70, 71, 72, 73, 74, 75, 76, 77, 78, 79, 80, 81, 82, 83, 84, 85, 86, 87, 88, 89, 90, 91, 92, 93, 94, 95, 96, 97, 98, 99, 100, 101, 102, 103, 104, 105, 106, 107, 108, 109, 110, 111, 112, 113, 114, 115, 116, 117, 118, 119, 120, 121, 122, 123, 124, 125, 126, 127, 128, 129, 130, 131, 132, 133, 134, 135, 136, 137, 138, 139, 140, 141, 142, 143, 144, 145, 146, 147, 148, 149, 150, 151, 152, 153, 154, 155, 156]\n"
     ]
    }
   ],
   "source": [
    "# i nodi sono per ogni tratta 2\n",
    "# in particolare uno è la partenza e uno l' arrivo\n",
    "# definisco tutti i nodi, li collgo in base alla tratta \n",
    "# definisco anche il nodo pozzo e il nodo sorgente\n",
    "\n",
    "s = 0\n",
    "t = n_tratte+1\n",
    "\n",
    "nodi_partenze = []\n",
    "\n",
    "for i in range(1,n_tratte+1):\n",
    "    nodi_partenze.append(i)\n",
    "\n",
    "nodi_arrivi = []\n",
    "\n",
    "for i in range(1,n_tratte+1):\n",
    "    nodi_arrivi.append(i)\n",
    "\n",
    "\n",
    "print(nodi_arrivi)\n",
    "\n"
   ]
  },
  {
   "cell_type": "code",
   "execution_count": 9,
   "metadata": {},
   "outputs": [
    {
     "output_type": "stream",
     "name": "stdout",
     "text": [
      "5\n[(0, 0), (0, 1), (0, 2), (0, 3), (0, 4), (0, 5), (0, 6), (0, 7), (0, 8), (0, 9), (0, 10), (0, 11), (0, 12), (0, 13), (0, 14), (0, 15), (0, 16), (0, 17), (0, 18), (0, 19), (0, 20), (0, 21), (0, 22), (0, 23), (0, 24), (0, 25), (0, 26), (0, 27), (0, 28), (0, 29), (0, 30), (0, 31), (0, 32), (0, 33), (0, 34), (0, 35), (0, 36), (0, 37), (0, 38), (0, 39), (0, 40), (0, 41), (0, 42), (0, 43), (0, 44), (0, 45), (0, 46), (0, 47), (0, 48), (0, 49), (0, 50), (0, 51), (0, 52), (0, 53), (0, 54), (0, 55), (0, 56), (0, 57), (0, 58), (0, 59), (0, 60), (0, 61), (0, 62), (0, 63), (0, 64), (0, 65), (0, 66), (0, 67), (0, 68), (0, 69), (0, 70), (0, 71), (0, 72), (0, 73), (0, 74), (0, 75), (0, 76), (0, 77), (0, 78), (0, 79), (0, 80), (0, 81), (0, 82), (0, 83), (0, 84), (0, 85), (0, 86), (0, 87), (0, 88), (0, 89), (0, 90), (0, 91), (0, 92), (0, 93), (0, 94), (0, 95), (0, 96), (0, 97), (0, 98), (0, 99), (0, 100), (0, 101), (0, 102), (0, 103), (0, 104), (0, 105), (0, 106), (0, 107), (0, 108), (0, 109), (0, 110), (0, 111), (0, 112), (0, 113), (0, 114), (0, 115), (0, 116), (0, 117), (0, 118), (0, 119), (0, 120), (0, 121), (0, 122), (0, 123), (0, 124), (0, 125), (0, 126), (0, 127), (0, 128), (0, 129), (0, 130), (0, 131), (0, 132), (0, 133), (0, 134), (0, 135), (0, 136), (0, 137), (0, 138), (0, 139), (0, 140), (0, 141), (0, 142), (0, 143), (0, 144), (0, 145), (0, 146), (0, 147), (0, 148), (0, 149), (0, 150), (0, 151), (0, 152), (0, 153), (0, 154), (0, 155), (0, 158), (1, 158), (2, 158), (3, 158), (4, 158), (5, 158), (6, 158), (7, 158), (8, 158), (9, 158), (10, 158), (11, 158), (12, 158), (13, 158), (14, 158), (15, 158), (16, 158), (17, 158), (18, 158), (19, 158), (20, 158), (21, 158), (22, 158), (23, 158), (24, 158), (25, 158), (26, 158), (27, 158), (28, 158), (29, 158), (30, 158), (31, 158), (32, 158), (33, 158), (34, 158), (35, 158), (36, 158), (37, 158), (38, 158), (39, 158), (40, 158), (41, 158), (42, 158), (43, 158), (44, 158), (45, 158), (46, 158), (47, 158), (48, 158), (49, 158), (50, 158), (51, 158), (52, 158), (53, 158), (54, 158), (55, 158), (56, 158), (57, 158), (58, 158), (59, 158), (60, 158), (61, 158), (62, 158), (63, 158), (64, 158), (65, 158), (66, 158), (67, 158), (68, 158), (69, 158), (70, 158), (71, 158), (72, 158), (73, 158), (74, 158), (75, 158), (76, 158), (77, 158), (78, 158), (79, 158), (80, 158), (81, 158), (82, 158), (83, 158), (84, 158), (85, 158), (86, 158), (87, 158), (88, 158), (89, 158), (90, 158), (91, 158), (92, 158), (93, 158), (94, 158), (95, 158), (96, 158), (97, 158), (98, 158), (99, 158), (100, 158), (101, 158), (102, 158), (103, 158), (104, 158), (105, 158), (106, 158), (107, 158), (108, 158), (109, 158), (110, 158), (111, 158), (112, 158), (113, 158), (114, 158), (115, 158), (116, 158), (117, 158), (118, 158), (119, 158), (120, 158), (121, 158), (122, 158), (123, 158), (124, 158), (125, 158), (126, 158), (127, 158), (128, 158), (129, 158), (130, 158), (131, 158), (132, 158), (133, 158), (134, 158), (135, 158), (136, 158), (137, 158), (138, 158), (139, 158), (140, 158), (141, 158), (142, 158), (143, 158), (144, 158), (145, 158), (146, 158), (147, 158), (148, 158), (149, 158), (150, 158), (151, 158), (152, 158), (153, 158), (154, 158), (155, 158)]\n"
     ]
    }
   ],
   "source": [
    "A = []\n",
    "\n",
    "print(luoghi_to_indici[final_stop[1][0]])\n",
    "\n",
    "# arco s\n",
    "s = 0\n",
    "for j in range (n_tratte):\n",
    "    A.append((s,j))\n",
    "# archi compatibilità\n",
    "for i in range(n_tratte):\n",
    "    indice_luogo_corrente = luoghi_to_indici[final_stop[i][0]]\n",
    "    for j in range(n_tratte):\n",
    "        indice_luogo_desiderato = luoghi_to_indici[initial_stop[j][0]]\n",
    "    if i!= j and initial_time[j][0] <= final_time[i][0] + tempi_vuoto[indice_luogo_corrente+1][indice_luogo_desiderato+1]:\n",
    "        A.append((i+1,j+1))\n",
    "# archi bilancio\n",
    "#arco t\n",
    "t = n_tratte+2\n",
    "for i in range(n_tratte):\n",
    "    A.append((i,t))\n",
    "\n",
    "print(A)"
   ]
  },
  {
   "cell_type": "code",
   "execution_count": null,
   "metadata": {},
   "outputs": [],
   "source": []
  }
 ]
}