{
 "metadata": {
  "language_info": {
   "codemirror_mode": {
    "name": "ipython",
    "version": 3
   },
   "file_extension": ".py",
   "mimetype": "text/x-python",
   "name": "python",
   "nbconvert_exporter": "python",
   "pygments_lexer": "ipython3",
   "version": "3.9.0"
  },
  "orig_nbformat": 2,
  "kernelspec": {
   "name": "python390jvsc74a57bd0212ba2339021f4235406b6df408ff0728ee814e8f32ea5b108c493c08d38dd68",
   "display_name": "Python 3.9.0 64-bit"
  }
 },
 "nbformat": 4,
 "nbformat_minor": 2,
 "cells": [
  {
   "cell_type": "code",
   "execution_count": 26,
   "metadata": {},
   "outputs": [],
   "source": [
    "\n",
    "import pandas as pd\n",
    "import xlrd\n",
    "import mip\n",
    "import datetime\n",
    "\n",
    "# costanti\n",
    "N_TRATTE = 156\n",
    "N_LUOGHI = 16\n",
    "\n",
    "\n",
    "# lettura files\n",
    "Tratte = pd.read_excel('file_di_dati.xlsx', sheet_name=\"porzioni di viaggio\")\n",
    "t_v = pd.read_excel('file_di_dati.xlsx', sheet_name=\"tempi di percorrenza a vuoto\")\n",
    "\n",
    "# metto tutte le colonne in un array\n",
    "passeggeri = pd.read_excel(\"file_di_dati.xlsx\",'porzioni di viaggio', usecols='B', skiprows=[0])\n",
    "extra_passengers = []\n",
    "extra_passengers = passeggeri.values.tolist()\n",
    "\n",
    "\n",
    "init_stop = pd.read_excel(\"file_di_dati.xlsx\",'porzioni di viaggio', usecols='C', skiprows=[0])\n",
    "inital_stop = []\n",
    "inital_stop = init_stop.values.tolist()\n",
    "\n",
    "\n",
    "fin_stop = pd.read_excel(\"file_di_dati.xlsx\",'porzioni di viaggio', usecols='D', skiprows=[0])\n",
    "final_stop = []\n",
    "final_stop = fin_stop.values.tolist()\n",
    "\n",
    "init_time = pd.read_excel(\"file_di_dati.xlsx\",'porzioni di viaggio', usecols='E', skiprows=[0]) \n",
    "initial_time = []\n",
    "inital_time = init_time.values.tolist()\n",
    "\n",
    "fin_time = pd.read_excel(\"file_di_dati.xlsx\",'porzioni di viaggio', usecols='F', skiprows=[0]) \n",
    "final_time = []\n",
    "final_time = fin_time.values.tolist()\n",
    "\n",
    "#tempi a vuoto\n",
    "tempi_vuoto = (t_v.values.tolist())\n",
    "#print(tempi_vuoto)\n",
    "\n",
    "# funzione per convertie i tempi\n",
    "epoch = datetime.datetime.utcfromtimestamp(0)\n",
    "def unix_time_sec(dt):\n",
    "    return (dt - epoch).total_seconds()\n",
    "\n"
   ]
  },
  {
   "cell_type": "code",
   "execution_count": 31,
   "metadata": {},
   "outputs": [
    {
     "output_type": "stream",
     "name": "stdout",
     "text": [
      "medaglie d’oro\n6\n"
     ]
    }
   ],
   "source": [
    "# uniformo i nomi tra tempi di percorrenza e tempi a vuoto\n",
    "#print(len(init_stop))\n",
    "#for i in range(0,len(init_stop)):\n",
    "#    initial_stop[i] = initial_stop[i].strip()\n",
    "#    final_stop[i] = final_stop[i].strip()\n",
    "\n",
    "#ribalto la matrice per potere scrivere tratte_vuoto[i][j]\n",
    "for i in range(N_LUOGHI+1):\n",
    "    for j in range(N_LUOGHI+1):\n",
    "        if i>j:\n",
    "            tempi_vuoto[j][i]=tempi_vuoto[i][j]\n",
    "        if i == j:\n",
    "            tempi_vuoto[i][j]=0\n",
    "\n",
    "luoghi = tempi_vuoto[0][:]\n",
    "luoghi.pop(0)\n",
    "\n",
    "# usiamo un dizionario in cui ogni nome corrisponde a un indice\n",
    "luoghi_to_indici = {luoghi[i]:i+1 for i in range(N_LUOGHI)}\n",
    "\n",
    "nome = final_stop[1][0]\n",
    "print(nome)\n",
    "\n",
    "indice_luogo_corrente = luoghi_to_indici[nome]\n",
    "print(indice_luogo_corrente)\n",
    "\n",
    "#staz = luoghi_to_indici['stazione']\n",
    "#kennedy = luoghi_to_indici['kennedy']\n",
    "#print(staz)\n",
    "#print(kennedy)\n",
    "#print(tempi_vuoto[ staz ][ kennedy ])\n",
    " "
   ]
  },
  {
   "source": [
    "Definiamo archi, nodi, flussi e costi\n",
    "\n",
    "i nodi sono per ogni tratta 2\n",
    "in particolare uno è la partenza e uno l' arrivo\n",
    "definisco tutti i nodi, li collgo in base alla tratta \n",
    "definisco anche il nodo pozzo e il nodo sorgente"
   ],
   "cell_type": "markdown",
   "metadata": {}
  },
  {
   "cell_type": "code",
   "execution_count": 28,
   "metadata": {
    "tags": []
   },
   "outputs": [],
   "source": [
    "\n",
    "NUMERO_NODI = N_TRATTE + 2\n",
    "A=[[0]*NUMERO_NODI for i in range(NUMERO_NODI)]\n",
    "U=[[0]*NUMERO_NODI for i in range(NUMERO_NODI)]\n",
    "C=[[0]*NUMERO_NODI for i in range(NUMERO_NODI)]\n",
    "nodi=[0 for i in range(NUMERO_NODI)]\n"
   ]
  },
  {
   "cell_type": "code",
   "execution_count": 30,
   "metadata": {},
   "outputs": [
    {
     "output_type": "error",
     "ename": "IndexError",
     "evalue": "list index out of range",
     "traceback": [
      "\u001b[1;31m---------------------------------------------------------------------------\u001b[0m",
      "\u001b[1;31mIndexError\u001b[0m                                Traceback (most recent call last)",
      "\u001b[1;32m<ipython-input-30-5c37e13f182b>\u001b[0m in \u001b[0;36m<module>\u001b[1;34m\u001b[0m\n\u001b[0;32m      3\u001b[0m     \u001b[1;32mfor\u001b[0m \u001b[0mj\u001b[0m \u001b[1;32min\u001b[0m \u001b[0mrange\u001b[0m\u001b[1;33m(\u001b[0m\u001b[0mN_TRATTE\u001b[0m\u001b[1;33m)\u001b[0m\u001b[1;33m:\u001b[0m\u001b[1;33m\u001b[0m\u001b[1;33m\u001b[0m\u001b[0m\n\u001b[0;32m      4\u001b[0m         \u001b[0mindice_luogo_desiderato\u001b[0m \u001b[1;33m=\u001b[0m \u001b[0mluoghi_to_indici\u001b[0m\u001b[1;33m[\u001b[0m\u001b[0minital_stop\u001b[0m\u001b[1;33m[\u001b[0m\u001b[0mj\u001b[0m\u001b[1;33m]\u001b[0m\u001b[1;33m[\u001b[0m\u001b[1;36m0\u001b[0m\u001b[1;33m]\u001b[0m\u001b[1;33m]\u001b[0m\u001b[1;33m\u001b[0m\u001b[1;33m\u001b[0m\u001b[0m\n\u001b[1;32m----> 5\u001b[1;33m         \u001b[1;32mif\u001b[0m \u001b[0mi\u001b[0m\u001b[1;33m!=\u001b[0m \u001b[0mj\u001b[0m \u001b[1;32mand\u001b[0m \u001b[0minitial_time\u001b[0m\u001b[1;33m[\u001b[0m\u001b[0mj\u001b[0m\u001b[1;33m]\u001b[0m\u001b[1;33m[\u001b[0m\u001b[1;36m0\u001b[0m\u001b[1;33m]\u001b[0m \u001b[1;33m<=\u001b[0m \u001b[0mfinal_time\u001b[0m\u001b[1;33m[\u001b[0m\u001b[0mi\u001b[0m\u001b[1;33m]\u001b[0m\u001b[1;33m[\u001b[0m\u001b[1;36m0\u001b[0m\u001b[1;33m]\u001b[0m \u001b[1;33m+\u001b[0m \u001b[0mtempi_vuoto\u001b[0m\u001b[1;33m[\u001b[0m\u001b[0mindice_luogo_corrente\u001b[0m\u001b[1;33m]\u001b[0m\u001b[1;33m[\u001b[0m\u001b[0mindice_luogo_desiderato\u001b[0m\u001b[1;33m]\u001b[0m\u001b[1;33m:\u001b[0m\u001b[1;33m\u001b[0m\u001b[1;33m\u001b[0m\u001b[0m\n\u001b[0m\u001b[0;32m      6\u001b[0m             \u001b[0mA\u001b[0m\u001b[1;33m[\u001b[0m\u001b[0mi\u001b[0m\u001b[1;33m]\u001b[0m\u001b[1;33m[\u001b[0m\u001b[0mj\u001b[0m\u001b[1;33m]\u001b[0m \u001b[1;33m=\u001b[0m \u001b[1;36m1\u001b[0m\u001b[1;33m\u001b[0m\u001b[1;33m\u001b[0m\u001b[0m\n\u001b[0;32m      7\u001b[0m             \u001b[0mU\u001b[0m\u001b[1;33m[\u001b[0m\u001b[0mi\u001b[0m\u001b[1;33m]\u001b[0m\u001b[1;33m[\u001b[0m\u001b[0mj\u001b[0m\u001b[1;33m]\u001b[0m \u001b[1;33m=\u001b[0m \u001b[1;36m1\u001b[0m\u001b[1;33m\u001b[0m\u001b[1;33m\u001b[0m\u001b[0m\n",
      "\u001b[1;31mIndexError\u001b[0m: list index out of range"
     ]
    }
   ],
   "source": [
    "\n",
    "for i in range(N_TRATTE):\n",
    "    indice_luogo_corrente = luoghi_to_indici[final_stop[i][0]]\n",
    "    for j in range(N_TRATTE):\n",
    "        indice_luogo_desiderato = luoghi_to_indici[inital_stop[j][0]]\n",
    "        if i!= j and initial_time[j][0] <= final_time[i][0] + tempi_vuoto[indice_luogo_corrente][indice_luogo_desiderato]:\n",
    "            A[i][j] = 1\n",
    "            U[i][j] = 1\n"
   ]
  },
  {
   "cell_type": "code",
   "execution_count": 5,
   "metadata": {
    "tags": []
   },
   "outputs": [],
   "source": [
    "\n",
    "# arco s\n",
    "s = 0\n",
    "for j in range (n_tratte):\n",
    "    A.append((s,j))\n",
    "\n",
    "# archi compatibilità\n",
    "for i in range(n_tratte):\n",
    "    indice_luogo_corrente = luoghi_to_indici[final_stop[i][0]]\n",
    "    for j in range(n_tratte):\n",
    "        indice_luogo_desiderato = luoghi_to_indici[initial_stop[j][0]]\n",
    "        if i!= j and initial_time[j][0] <= final_time[i][0] + tempi_vuoto[indice_luogo_corrente+1][indice_luogo_desiderato+1]:\n",
    "            A.append((i+1,j+1))\n",
    "\n",
    "# archi bilancio\n",
    "#arco t\n",
    "t = n_tratte+2\n",
    "for i in range(n_tratte):\n",
    "    A.append((i,t))\n",
    "\n",
    "#print(A)"
   ]
  },
  {
   "cell_type": "code",
   "execution_count": null,
   "metadata": {},
   "outputs": [],
   "source": []
  }
 ]
}