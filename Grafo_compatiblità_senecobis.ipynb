{
 "metadata": {
  "language_info": {
   "codemirror_mode": {
    "name": "ipython",
    "version": 3
   },
   "file_extension": ".py",
   "mimetype": "text/x-python",
   "name": "python",
   "nbconvert_exporter": "python",
   "pygments_lexer": "ipython3",
   "version": "3.9.5"
  },
  "orig_nbformat": 2,
  "kernelspec": {
   "name": "python395jvsc74a57bd089c95244fa7d685ba9529f989ff221039b25725b638885f483fe617a76ee8f86",
   "display_name": "Python 3.9.5 64-bit"
  },
  "metadata": {
   "interpreter": {
    "hash": "89c95244fa7d685ba9529f989ff221039b25725b638885f483fe617a76ee8f86"
   }
  }
 },
 "nbformat": 4,
 "nbformat_minor": 2,
 "cells": [
  {
   "cell_type": "code",
   "execution_count": 24,
   "metadata": {},
   "outputs": [
    {
     "output_type": "stream",
     "name": "stdout",
     "text": [
      "-----------------------------------------------------------\n"
     ]
    }
   ],
   "source": [
    "import pandas as pd\n",
    "import xlrd\n",
    "import mip\n",
    "import networkx as nx\n",
    "import datetime\n",
    "\n",
    "# definizioni costanti fittizzie\n",
    "\n",
    "COUNTED_PASSENGERS = 0\n",
    "EXTRA_PASSENGERS = 1\n",
    "INITIAL_STOP = 2\n",
    "FINAL_STOP = 3\n",
    "INITIAL_TIME = 4\n",
    "FINAL_TIME = 5\n",
    "K_AUTOBUS = 33\n",
    "\n",
    "# lettura files\n",
    "\n",
    "Tratte = pd.read_excel('file_di_dati.xlsx', sheet_name=\"porzioni di viaggio\")\n",
    "t_v = pd.read_excel('file_di_dati.xlsx', sheet_name=\"tempi di percorrenza a vuoto\")\n",
    "\n",
    "#print(Tratte)\n",
    "'print(tempi_vuoto)'\n",
    "\n",
    "'''\n",
    "Tratte = Tratte.to_numpy()\n",
    "tempi_vuoto = tempi_vuoto.to_numpy()\n",
    "\n",
    "print(Tratte)\n",
    "#print(tempi_vuoto)\n",
    "'''\n",
    "\n",
    "# metto tutte le colonne in un array\n",
    "\n",
    "counted_passengers = pd.read_excel(\"file_di_dati.xlsx\",'porzioni di viaggio', usecols='A', skiprows=[0]) \n",
    "counted_passengers = counted_passengers.values.tolist()\n",
    "\n",
    "extra_passengers = pd.read_excel(\"file_di_dati.xlsx\",'porzioni di viaggio', usecols='B', skiprows=[0])\n",
    "extra_passengers = extra_passengers.values.tolist() \n",
    "n_extra_passengers = len(extra_passengers)\n",
    "n_tratte = n_extra_passengers\n",
    "\n",
    "initial_stop = pd.read_excel(\"file_di_dati.xlsx\",'porzioni di viaggio', usecols='C', skiprows=[0]) \n",
    "initial_stop = initial_stop.values.tolist()\n",
    "\n",
    "final_stop = pd.read_excel(\"file_di_dati.xlsx\",'porzioni di viaggio', usecols='D', skiprows=[0]) \n",
    "final_stop = final_stop.values.tolist()\n",
    "\n",
    "initial_time = pd.read_excel(\"file_di_dati.xlsx\",'porzioni di viaggio', usecols='E', skiprows=[0]) \n",
    "initial_time = initial_time.values.tolist()\n",
    "\n",
    "final_time = pd.read_excel(\"file_di_dati.xlsx\",'porzioni di viaggio', usecols='F', skiprows=[0]) \n",
    "final_time = final_time.values.tolist()\n",
    "\n",
    "print('-----------------------------------------------------------')\n",
    "\n",
    "# funzione per convertie i tempi\n",
    "\n",
    "epoch = datetime.datetime.utcfromtimestamp(0)\n",
    "\n",
    "def unix_time_sec(dt):\n",
    "    return (dt - epoch).total_seconds()\n",
    "\n"
   ]
  },
  {
   "cell_type": "code",
   "execution_count": 3,
   "metadata": {},
   "outputs": [
    {
     "output_type": "stream",
     "name": "stdout",
     "text": [
      "nan\npiazzale medaglie d’oro\npiazzale dante\n[[0, 'stazione fs', 'kennedy', 'barriera', 'canapa', 'ospedale', 'p. medaglie d’oro', 'p. dante', 'pontegradella itis', 'barlaam', 'cavour giardini', 'santa maria maddalena', 'autostazione', 'corti di medoro', 'giovecca montebello', 'barco', 'malborghetto'], ['stazione fs', 0, 10, 3, 10, 20, 10, 10, 12, 10, 5, 20, 5, 15, 8, 15, 25], ['kennedy', 10, 0, 10, 15, 15, 5, 15, 7, 5, 5, 25, 10, 5, 7, 20, 25], ['barriera', 3, 10, 0, 10, 20, 8, 10, 10, 10, 3, 20, 5, 15, 5, 15, 25], ['canapa', 10, 15, 10, 0, 25, 10, 5, 10, 12, 12, 18, 10, 15, 20, 3, 15], ['ospedale', 20, 15, 20, 25, 0, 15, 25, 20, 25, 20, 30, 20, 20, 15, 25, 30], ['p. medaglie d’oro', 10, 5, 8, 10, 15, 0, 10, 3, 15, 5, 25, 10, 12, 3, 12, 20], ['p. dante', 10, 15, 10, 5, 25, 10, 0, 8, 10, 10, 20, 12, 15, 10, 8, 13], ['pontegradella itis', 12, 7, 10, 10, 20, 3, 8, 0, 17, 7, 25, 12, 15, 5, 12, 20], ['barlaam', 10, 5, 10, 12, 25, 15, 10, 17, 0, 12, 25, 5, 3, 10, 20, 25], ['cavour giardini', 5, 5, 3, 12, 20, 5, 10, 7, 12, 0, 25, 7, 7, 5, 20, 20], ['santa maria maddalena', 20, 25, 20, 18, 30, 25, 20, 25, 25, 25, 0, 20, 25, 25, 7, 20], ['autostazione', 5, 10, 5, 10, 20, 10, 12, 12, 5, 7, 20, 0, 12, 10, 10, 30], ['corti di medoro', 15, 5, 15, 15, 20, 12, 15, 15, 3, 7, 25, 12, 0, 12, 22, 25], ['giovecca montebello', 8, 7, 5, 20, 15, 3, 10, 5, 10, 5, 25, 10, 12, 0, 15, 22], ['barco', 15, 20, 15, 3, 25, 12, 8, 12, 20, 20, 7, 10, 22, 15, 0, 15], ['malborghetto', 25, 25, 25, 15, 30, 20, 13, 20, 25, 20, 20, 30, 25, 22, 15, 0]]\n"
     ]
    }
   ],
   "source": [
    "\n",
    "# qua bisogna sistemare i nomi di tempi a vuoto\n",
    "#questo for rende tutti i nomi omogenei a quelli delle righa zeresima cambiando la col zeresima\n",
    "\n",
    "tempi_vuoto = (t_v.values.tolist())\n",
    "luoghi = tempi_vuoto[0][:]\n",
    "luoghi.pop(0)\n",
    "n_luoghi = len(luoghi)\n",
    "\n",
    "for i in range(n_luoghi):\n",
    "    if tempi_vuoto[i][0]!=tempi_vuoto[0][i]:\n",
    "            print(tempi_vuoto[i][0])\n",
    "            tempi_vuoto[i][0]=tempi_vuoto[0][i]\n",
    "\n",
    "#ribalto la matrice per potere scrivere tratte_vuoto[i][j]\n",
    "for i in range(n_luoghi+1):\n",
    "    for j in range(n_luoghi+1):\n",
    "        if i>j:\n",
    "            tempi_vuoto[j][i]=tempi_vuoto[i][j]\n",
    "        if i == j:\n",
    "            tempi_vuoto[i][j]=0\n",
    "\n",
    "\n",
    "#print(luoghi)\n",
    "n_luoghi = len(luoghi)\n",
    "#print(n_luoghi)\n",
    "#print(tempi_vuoto)\n",
    "\n",
    "luoghi_to_indici = {luoghi[i]:i+1 for i in range(n_luoghi)}\n",
    "\n",
    "\n",
    "# usiamo un dizionario in cui ogni nome corrisponde a un indice\n",
    "\n",
    "#print(luoghi_to_indici)\n",
    "\n",
    "\n"
   ]
  },
  {
   "cell_type": "code",
   "execution_count": 26,
   "metadata": {},
   "outputs": [
    {
     "output_type": "error",
     "ename": "KeyboardInterrupt",
     "evalue": "",
     "traceback": [
      "\u001b[1;31m---------------------------------------------------------------------------\u001b[0m",
      "\u001b[1;31mKeyboardInterrupt\u001b[0m                         Traceback (most recent call last)",
      "\u001b[1;32m<ipython-input-26-58d8f44ef854>\u001b[0m in \u001b[0;36m<module>\u001b[1;34m\u001b[0m\n\u001b[0;32m      5\u001b[0m \u001b[1;31m# definisco anche il nodo pozzo e il nodo sorgente\u001b[0m\u001b[1;33m\u001b[0m\u001b[1;33m\u001b[0m\u001b[1;33m\u001b[0m\u001b[0m\n\u001b[0;32m      6\u001b[0m \u001b[1;33m\u001b[0m\u001b[0m\n\u001b[1;32m----> 7\u001b[1;33m \u001b[0ms\u001b[0m \u001b[1;33m=\u001b[0m \u001b[1;36m0\u001b[0m\u001b[1;33m\u001b[0m\u001b[1;33m\u001b[0m\u001b[0m\n\u001b[0m\u001b[0;32m      8\u001b[0m \u001b[0mt\u001b[0m \u001b[1;33m=\u001b[0m \u001b[0mn_tratte\u001b[0m\u001b[1;33m+\u001b[0m\u001b[1;36m1\u001b[0m\u001b[1;33m\u001b[0m\u001b[1;33m\u001b[0m\u001b[0m\n\u001b[0;32m      9\u001b[0m \u001b[1;33m\u001b[0m\u001b[0m\n",
      "\u001b[1;32m<ipython-input-26-58d8f44ef854>\u001b[0m in \u001b[0;36m<module>\u001b[1;34m\u001b[0m\n\u001b[0;32m      5\u001b[0m \u001b[1;31m# definisco anche il nodo pozzo e il nodo sorgente\u001b[0m\u001b[1;33m\u001b[0m\u001b[1;33m\u001b[0m\u001b[1;33m\u001b[0m\u001b[0m\n\u001b[0;32m      6\u001b[0m \u001b[1;33m\u001b[0m\u001b[0m\n\u001b[1;32m----> 7\u001b[1;33m \u001b[0ms\u001b[0m \u001b[1;33m=\u001b[0m \u001b[1;36m0\u001b[0m\u001b[1;33m\u001b[0m\u001b[1;33m\u001b[0m\u001b[0m\n\u001b[0m\u001b[0;32m      8\u001b[0m \u001b[0mt\u001b[0m \u001b[1;33m=\u001b[0m \u001b[0mn_tratte\u001b[0m\u001b[1;33m+\u001b[0m\u001b[1;36m1\u001b[0m\u001b[1;33m\u001b[0m\u001b[1;33m\u001b[0m\u001b[0m\n\u001b[0;32m      9\u001b[0m \u001b[1;33m\u001b[0m\u001b[0m\n",
      "\u001b[1;32mc:\\Users\\Giacomo Manzoni\\.vscode\\extensions\\ms-python.python-2021.5.842923320\\pythonFiles\\lib\\python\\debugpy\\_vendored\\pydevd\\_pydevd_bundle\\pydevd_frame.py\u001b[0m in \u001b[0;36mtrace_dispatch\u001b[1;34m(self, frame, event, arg)\u001b[0m\n\u001b[0;32m   1100\u001b[0m                     \u001b[1;32mif\u001b[0m \u001b[0mis_line\u001b[0m\u001b[1;33m:\u001b[0m\u001b[1;33m\u001b[0m\u001b[1;33m\u001b[0m\u001b[0m\n\u001b[0;32m   1101\u001b[0m                         \u001b[0mself\u001b[0m\u001b[1;33m.\u001b[0m\u001b[0mset_suspend\u001b[0m\u001b[1;33m(\u001b[0m\u001b[0mthread\u001b[0m\u001b[1;33m,\u001b[0m \u001b[0mstep_cmd\u001b[0m\u001b[1;33m,\u001b[0m \u001b[0moriginal_step_cmd\u001b[0m\u001b[1;33m=\u001b[0m\u001b[0minfo\u001b[0m\u001b[1;33m.\u001b[0m\u001b[0mpydev_original_step_cmd\u001b[0m\u001b[1;33m)\u001b[0m\u001b[1;33m\u001b[0m\u001b[1;33m\u001b[0m\u001b[0m\n\u001b[1;32m-> 1102\u001b[1;33m                         \u001b[0mself\u001b[0m\u001b[1;33m.\u001b[0m\u001b[0mdo_wait_suspend\u001b[0m\u001b[1;33m(\u001b[0m\u001b[0mthread\u001b[0m\u001b[1;33m,\u001b[0m \u001b[0mframe\u001b[0m\u001b[1;33m,\u001b[0m \u001b[0mevent\u001b[0m\u001b[1;33m,\u001b[0m \u001b[0marg\u001b[0m\u001b[1;33m)\u001b[0m\u001b[1;33m\u001b[0m\u001b[1;33m\u001b[0m\u001b[0m\n\u001b[0m\u001b[0;32m   1103\u001b[0m                     \u001b[1;32melif\u001b[0m \u001b[0mis_return\u001b[0m\u001b[1;33m:\u001b[0m  \u001b[1;31m# return event\u001b[0m\u001b[1;33m\u001b[0m\u001b[1;33m\u001b[0m\u001b[0m\n\u001b[0;32m   1104\u001b[0m                         \u001b[0mback\u001b[0m \u001b[1;33m=\u001b[0m \u001b[0mframe\u001b[0m\u001b[1;33m.\u001b[0m\u001b[0mf_back\u001b[0m\u001b[1;33m\u001b[0m\u001b[1;33m\u001b[0m\u001b[0m\n",
      "\u001b[1;32mc:\\Users\\Giacomo Manzoni\\.vscode\\extensions\\ms-python.python-2021.5.842923320\\pythonFiles\\lib\\python\\debugpy\\_vendored\\pydevd\\_pydevd_bundle\\pydevd_frame.py\u001b[0m in \u001b[0;36mdo_wait_suspend\u001b[1;34m(self, *args, **kwargs)\u001b[0m\n\u001b[0;32m    162\u001b[0m \u001b[1;33m\u001b[0m\u001b[0m\n\u001b[0;32m    163\u001b[0m     \u001b[1;32mdef\u001b[0m \u001b[0mdo_wait_suspend\u001b[0m\u001b[1;33m(\u001b[0m\u001b[0mself\u001b[0m\u001b[1;33m,\u001b[0m \u001b[1;33m*\u001b[0m\u001b[0margs\u001b[0m\u001b[1;33m,\u001b[0m \u001b[1;33m**\u001b[0m\u001b[0mkwargs\u001b[0m\u001b[1;33m)\u001b[0m\u001b[1;33m:\u001b[0m\u001b[1;33m\u001b[0m\u001b[1;33m\u001b[0m\u001b[0m\n\u001b[1;32m--> 164\u001b[1;33m         \u001b[0mself\u001b[0m\u001b[1;33m.\u001b[0m\u001b[0m_args\u001b[0m\u001b[1;33m[\u001b[0m\u001b[1;36m0\u001b[0m\u001b[1;33m]\u001b[0m\u001b[1;33m.\u001b[0m\u001b[0mdo_wait_suspend\u001b[0m\u001b[1;33m(\u001b[0m\u001b[1;33m*\u001b[0m\u001b[0margs\u001b[0m\u001b[1;33m,\u001b[0m \u001b[1;33m**\u001b[0m\u001b[0mkwargs\u001b[0m\u001b[1;33m)\u001b[0m\u001b[1;33m\u001b[0m\u001b[1;33m\u001b[0m\u001b[0m\n\u001b[0m\u001b[0;32m    165\u001b[0m \u001b[1;33m\u001b[0m\u001b[0m\n\u001b[0;32m    166\u001b[0m     \u001b[1;31m# IFDEF CYTHON\u001b[0m\u001b[1;33m\u001b[0m\u001b[1;33m\u001b[0m\u001b[1;33m\u001b[0m\u001b[0m\n",
      "\u001b[1;32mc:\\Users\\Giacomo Manzoni\\.vscode\\extensions\\ms-python.python-2021.5.842923320\\pythonFiles\\lib\\python\\debugpy\\_vendored\\pydevd\\pydevd.py\u001b[0m in \u001b[0;36mdo_wait_suspend\u001b[1;34m(self, thread, frame, event, arg, exception_type)\u001b[0m\n\u001b[0;32m   1935\u001b[0m \u001b[1;33m\u001b[0m\u001b[0m\n\u001b[0;32m   1936\u001b[0m             \u001b[1;32mwith\u001b[0m \u001b[0mself\u001b[0m\u001b[1;33m.\u001b[0m\u001b[0m_threads_suspended_single_notification\u001b[0m\u001b[1;33m.\u001b[0m\u001b[0mnotify_thread_suspended\u001b[0m\u001b[1;33m(\u001b[0m\u001b[0mthread_id\u001b[0m\u001b[1;33m,\u001b[0m \u001b[0mstop_reason\u001b[0m\u001b[1;33m)\u001b[0m\u001b[1;33m:\u001b[0m\u001b[1;33m\u001b[0m\u001b[1;33m\u001b[0m\u001b[0m\n\u001b[1;32m-> 1937\u001b[1;33m                 \u001b[0mkeep_suspended\u001b[0m \u001b[1;33m=\u001b[0m \u001b[0mself\u001b[0m\u001b[1;33m.\u001b[0m\u001b[0m_do_wait_suspend\u001b[0m\u001b[1;33m(\u001b[0m\u001b[0mthread\u001b[0m\u001b[1;33m,\u001b[0m \u001b[0mframe\u001b[0m\u001b[1;33m,\u001b[0m \u001b[0mevent\u001b[0m\u001b[1;33m,\u001b[0m \u001b[0marg\u001b[0m\u001b[1;33m,\u001b[0m \u001b[0msuspend_type\u001b[0m\u001b[1;33m,\u001b[0m \u001b[0mfrom_this_thread\u001b[0m\u001b[1;33m,\u001b[0m \u001b[0mframes_tracker\u001b[0m\u001b[1;33m)\u001b[0m\u001b[1;33m\u001b[0m\u001b[1;33m\u001b[0m\u001b[0m\n\u001b[0m\u001b[0;32m   1938\u001b[0m \u001b[1;33m\u001b[0m\u001b[0m\n\u001b[0;32m   1939\u001b[0m         \u001b[0mframes_list\u001b[0m \u001b[1;33m=\u001b[0m \u001b[1;32mNone\u001b[0m\u001b[1;33m\u001b[0m\u001b[1;33m\u001b[0m\u001b[0m\n",
      "\u001b[1;32mc:\\Users\\Giacomo Manzoni\\.vscode\\extensions\\ms-python.python-2021.5.842923320\\pythonFiles\\lib\\python\\debugpy\\_vendored\\pydevd\\pydevd.py\u001b[0m in \u001b[0;36m_do_wait_suspend\u001b[1;34m(self, thread, frame, event, arg, suspend_type, from_this_thread, frames_tracker)\u001b[0m\n\u001b[0;32m   1970\u001b[0m \u001b[1;33m\u001b[0m\u001b[0m\n\u001b[0;32m   1971\u001b[0m             \u001b[0mself\u001b[0m\u001b[1;33m.\u001b[0m\u001b[0mprocess_internal_commands\u001b[0m\u001b[1;33m(\u001b[0m\u001b[1;33m)\u001b[0m\u001b[1;33m\u001b[0m\u001b[1;33m\u001b[0m\u001b[0m\n\u001b[1;32m-> 1972\u001b[1;33m             \u001b[0mtime\u001b[0m\u001b[1;33m.\u001b[0m\u001b[0msleep\u001b[0m\u001b[1;33m(\u001b[0m\u001b[1;36m0.01\u001b[0m\u001b[1;33m)\u001b[0m\u001b[1;33m\u001b[0m\u001b[1;33m\u001b[0m\u001b[0m\n\u001b[0m\u001b[0;32m   1973\u001b[0m \u001b[1;33m\u001b[0m\u001b[0m\n\u001b[0;32m   1974\u001b[0m         \u001b[0mself\u001b[0m\u001b[1;33m.\u001b[0m\u001b[0mcancel_async_evaluation\u001b[0m\u001b[1;33m(\u001b[0m\u001b[0mget_current_thread_id\u001b[0m\u001b[1;33m(\u001b[0m\u001b[0mthread\u001b[0m\u001b[1;33m)\u001b[0m\u001b[1;33m,\u001b[0m \u001b[0mstr\u001b[0m\u001b[1;33m(\u001b[0m\u001b[0mid\u001b[0m\u001b[1;33m(\u001b[0m\u001b[0mframe\u001b[0m\u001b[1;33m)\u001b[0m\u001b[1;33m)\u001b[0m\u001b[1;33m)\u001b[0m\u001b[1;33m\u001b[0m\u001b[1;33m\u001b[0m\u001b[0m\n",
      "\u001b[1;31mKeyboardInterrupt\u001b[0m: "
     ]
    }
   ],
   "source": [
    "# i nodi sono per ogni tratta 2\n",
    "# in particolare uno è la partenza e uno l' arrivo\n",
    "# definisco tutti i nodi, li collgo in base alla tratta \n",
    "# definisco anche il nodo pozzo e il nodo sorgente\n",
    "'''\n",
    "s = 0\n",
    "t = n_tratte+1\n",
    "\n",
    "nodi_partenze = []\n",
    "\n",
    "for i in range(1,n_tratte+1):\n",
    "    nodi_partenze.append(i)\n",
    "\n",
    "nodi_arrivi = []\n",
    "\n",
    "for i in range(1,n_tratte+1):\n",
    "    nodi_arrivi.append(i)\n",
    "\n",
    "\n",
    "print(nodi_arrivi)\n",
    "\n",
    "'''"
   ]
  },
  {
   "cell_type": "code",
   "execution_count": null,
   "metadata": {},
   "outputs": [],
   "source": [
    "# nodi = tratte\n",
    "N = []\n",
    "for i in range(0,n_tratte+1):\n",
    "    N.append(i) #il nodo 0 è n e l'n_tratte+1 è t\n"
   ]
  },
  {
   "cell_type": "code",
   "execution_count": 25,
   "metadata": {},
   "outputs": [],
   "source": [
    "A = []\n",
    "# arco s\n",
    "#arco t\n",
    " \n",
    "# archi compatibilità\n",
    "'''\n",
    "for i in range (n_tratte):\n",
    "    for j in range(n_tratte):\n",
    "        if i!= j and initial_time[j] <= final_time[i] + tempi_vuoto[i][j]:\n",
    "            A.append((i,j))\n",
    "            print(A[i][j])\n",
    "'''\n",
    "\n",
    "\n",
    "COMP = []\n",
    "# archi bilancio\n",
    "for i in range(len(initial_stop)):\n",
    "    COMP.append((i,i))"
   ]
  },
  {
   "cell_type": "code",
   "execution_count": null,
   "metadata": {},
   "outputs": [],
   "source": [
    "# >>>>>> variabili <<<<<<\n",
    "modello = mip.Model()\n",
    "\n",
    "# flusso su gli archi\n",
    "x = []\n",
    "for k in range(n_di_tratte):\n",
    "    x.append([modello.add_var(var_type=mip.INTEGER) for i in range(K_AUTOBUS)])\n",
    "\n",
    "\n"
   ]
  }
 ]
}